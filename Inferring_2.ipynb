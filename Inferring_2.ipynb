{
  "nbformat": 4,
  "nbformat_minor": 0,
  "metadata": {
    "colab": {
      "provenance": [],
      "include_colab_link": true
    },
    "kernelspec": {
      "name": "python3",
      "display_name": "Python 3"
    },
    "language_info": {
      "name": "python"
    }
  },
  "cells": [
    {
      "cell_type": "markdown",
      "metadata": {
        "id": "view-in-github",
        "colab_type": "text"
      },
      "source": [
        "<a href=\"https://colab.research.google.com/github/keyom-ai/prompts/blob/main/Inferring_2.ipynb\" target=\"_parent\"><img src=\"https://colab.research.google.com/assets/colab-badge.svg\" alt=\"Open In Colab\"/></a>"
      ]
    },
    {
      "cell_type": "markdown",
      "source": [
        "**Inferring**\n",
        "\n",
        "In this lesson, you will infer sentiment and topics from product reviews and news articles.\n",
        "\n",
        "Setup"
      ],
      "metadata": {
        "id": "rR_krDjoXG-E"
      }
    },
    {
      "cell_type": "code",
      "execution_count": null,
      "metadata": {
        "colab": {
          "base_uri": "https://localhost:8080/"
        },
        "id": "BVE0WcuHW9VX",
        "outputId": "671386cb-10fa-4c72-dc4f-1ca683692883"
      },
      "outputs": [
        {
          "output_type": "stream",
          "name": "stdout",
          "text": [
            "Collecting openai==0.27\n",
            "  Downloading openai-0.27.0-py3-none-any.whl (70 kB)\n",
            "\u001b[2K     \u001b[90m━━━━━━━━━━━━━━━━━━━━━━━━━━━━━━━━━━━━━━━━\u001b[0m \u001b[32m70.1/70.1 kB\u001b[0m \u001b[31m1.6 MB/s\u001b[0m eta \u001b[36m0:00:00\u001b[0m\n",
            "\u001b[?25hRequirement already satisfied: requests>=2.20 in /usr/local/lib/python3.10/dist-packages (from openai==0.27) (2.31.0)\n",
            "Requirement already satisfied: tqdm in /usr/local/lib/python3.10/dist-packages (from openai==0.27) (4.66.1)\n",
            "Requirement already satisfied: aiohttp in /usr/local/lib/python3.10/dist-packages (from openai==0.27) (3.8.6)\n",
            "Requirement already satisfied: charset-normalizer<4,>=2 in /usr/local/lib/python3.10/dist-packages (from requests>=2.20->openai==0.27) (3.3.2)\n",
            "Requirement already satisfied: idna<4,>=2.5 in /usr/local/lib/python3.10/dist-packages (from requests>=2.20->openai==0.27) (3.4)\n",
            "Requirement already satisfied: urllib3<3,>=1.21.1 in /usr/local/lib/python3.10/dist-packages (from requests>=2.20->openai==0.27) (2.0.7)\n",
            "Requirement already satisfied: certifi>=2017.4.17 in /usr/local/lib/python3.10/dist-packages (from requests>=2.20->openai==0.27) (2023.7.22)\n",
            "Requirement already satisfied: attrs>=17.3.0 in /usr/local/lib/python3.10/dist-packages (from aiohttp->openai==0.27) (23.1.0)\n",
            "Requirement already satisfied: multidict<7.0,>=4.5 in /usr/local/lib/python3.10/dist-packages (from aiohttp->openai==0.27) (6.0.4)\n",
            "Requirement already satisfied: async-timeout<5.0,>=4.0.0a3 in /usr/local/lib/python3.10/dist-packages (from aiohttp->openai==0.27) (4.0.3)\n",
            "Requirement already satisfied: yarl<2.0,>=1.0 in /usr/local/lib/python3.10/dist-packages (from aiohttp->openai==0.27) (1.9.2)\n",
            "Requirement already satisfied: frozenlist>=1.1.1 in /usr/local/lib/python3.10/dist-packages (from aiohttp->openai==0.27) (1.4.0)\n",
            "Requirement already satisfied: aiosignal>=1.1.2 in /usr/local/lib/python3.10/dist-packages (from aiohttp->openai==0.27) (1.3.1)\n",
            "Installing collected packages: openai\n",
            "\u001b[31mERROR: pip's dependency resolver does not currently take into account all the packages that are installed. This behaviour is the source of the following dependency conflicts.\n",
            "llmx 0.0.15a0 requires cohere, which is not installed.\n",
            "llmx 0.0.15a0 requires tiktoken, which is not installed.\u001b[0m\u001b[31m\n",
            "\u001b[0mSuccessfully installed openai-0.27.0\n"
          ]
        }
      ],
      "source": [
        "pip install openai==0.27"
      ]
    },
    {
      "cell_type": "code",
      "source": [
        "import openai\n",
        "openai.api_key = 'sk-abcdefghijklmanopqrstuvwxyz0123456789'"
      ],
      "metadata": {
        "id": "almkuMc8XbGD"
      },
      "execution_count": null,
      "outputs": []
    },
    {
      "cell_type": "markdown",
      "source": [
        "**Helper function**\n",
        "\n",
        "Throughout this course, we will use OpenAI's gpt-3.5-turbo model and the [chat completions endpoint.](https://platform.openai.com/docs/guides/text-generation/chat-completions-api)\n",
        "\n",
        "This helper function will make it easier to use prompts and look at the generated outputs."
      ],
      "metadata": {
        "id": "IR1H2Dk1Xz66"
      }
    },
    {
      "cell_type": "code",
      "source": [
        "def get_completion(prompt, model=\"gpt-3.5-turbo\"):\n",
        "    messages = [{\"role\": \"user\", \"content\": prompt}]\n",
        "    response = openai.ChatCompletion.create(\n",
        "        model=model,\n",
        "        messages=messages,\n",
        "        temperature=0.4, # this is the degree of randomness of the model's output\n",
        "    )\n",
        "    return response['choices'][0]['message']['content']"
      ],
      "metadata": {
        "id": "ZdTcRS1_Xq2m"
      },
      "execution_count": null,
      "outputs": []
    },
    {
      "cell_type": "markdown",
      "source": [
        "**PRODUCT REVIEW TEXT**"
      ],
      "metadata": {
        "id": "B1aNnriCd2n1"
      }
    },
    {
      "cell_type": "code",
      "source": [
        "air_fryer_review=\"\"\"I liked that the air fryer from duxcon fryers does what it was advertised to do.\\\n",
        "I have to make adjustments to cooking time and temperature to what I think I needed.\\\n",
        "The bad thing is in less than 2 months of use, the lettering on the product started to smear.\\\n",
        "The UP arrow is very often used when I adjust the temperature but now the symbol and the other letters now disappeared completely Because of this printing quality issue,\\\n",
        "and I believe the manufacturer of this product is aware if this quality issue,\\\n",
        "I would like them to address this issue. I am disappointed and angry by this product,\\\n",
        "because of the label quality issue and I would like to send the item back, \\\n",
        "before all the letterings / labels on the front of the product will be smeared off, otherwise, I would like to request for a refund.\n",
        "\n",
        "Prospective buyers of this product, beware that through time,\\\n",
        "the labels and sqymbols smears or gets erased when wiping front with cloth,\\\n",
        "so you have to guess the function that you need from the erased letters/symbols, which is really inconvenient and frustrating.\n",
        "duxcon fryers seems to be bad at services\"\"\""
      ],
      "metadata": {
        "id": "z60zMb8rYAtk"
      },
      "execution_count": null,
      "outputs": []
    },
    {
      "cell_type": "markdown",
      "source": [
        "**Sentiment (positive/negative)**"
      ],
      "metadata": {
        "id": "Ybw7QX4agFYQ"
      }
    },
    {
      "cell_type": "code",
      "source": [
        "prompt = f\"\"\"\n",
        "What is the sentiment of the following product review,\n",
        "which is delimited with triple backticks?\n",
        "\n",
        "Review text: '''{air_fryer_review}'''\n",
        "\"\"\"\n",
        "response = get_completion(prompt)\n",
        "print(response)"
      ],
      "metadata": {
        "colab": {
          "base_uri": "https://localhost:8080/"
        },
        "id": "Afx0g9K8gKeE",
        "outputId": "bd37ed8a-a253-489a-895c-fb49aaf1c166"
      },
      "execution_count": null,
      "outputs": [
        {
          "output_type": "stream",
          "name": "stdout",
          "text": [
            "The sentiment of the product review is negative.\n"
          ]
        }
      ]
    },
    {
      "cell_type": "code",
      "source": [
        "#prompt to answer it in a word\n",
        "\n",
        "prompt = f\"\"\"\n",
        "What is the sentiment of the following product review,\n",
        "which is delimited with triple backticks?\n",
        "\n",
        "Give your answer as a single word, either \"positive\" \\\n",
        "or \"negative\".\n",
        "\n",
        "Review text: '''{air_fryer_review}'''\n",
        "\"\"\"\n",
        "response = get_completion(prompt)\n",
        "print(response)"
      ],
      "metadata": {
        "colab": {
          "base_uri": "https://localhost:8080/"
        },
        "id": "ykZFlY3qgZqb",
        "outputId": "19b56e38-8457-498f-bbfe-5115e0654f48"
      },
      "execution_count": null,
      "outputs": [
        {
          "output_type": "stream",
          "name": "stdout",
          "text": [
            "negative\n"
          ]
        }
      ]
    },
    {
      "cell_type": "markdown",
      "source": [
        "**Identify types of emotions**"
      ],
      "metadata": {
        "id": "YaKBoViUgqu_"
      }
    },
    {
      "cell_type": "code",
      "source": [
        "#prompt to list out the types of emotions the reviewer has about the product\n",
        "\n",
        "prompt = f\"\"\"\n",
        "Identify a list of emotions that the writer of the \\\n",
        "following review is expressing. Include no more than \\\n",
        "siz items in the list. Format your answer as a list of \\\n",
        "lower-case words separated by commas.\n",
        "\n",
        "Review text: '''{air_fryer_review}'''\n",
        "\"\"\"\n",
        "response = get_completion(prompt)\n",
        "print(response)"
      ],
      "metadata": {
        "colab": {
          "base_uri": "https://localhost:8080/"
        },
        "id": "udI85Iv-gSqc",
        "outputId": "7ba60f87-67d4-48a2-c8ec-80c76d6b3d9b"
      },
      "execution_count": null,
      "outputs": [
        {
          "output_type": "stream",
          "name": "stdout",
          "text": [
            "liked, disappointed, angry, frustrated, inconvenient, frustrated\n"
          ]
        }
      ]
    },
    {
      "cell_type": "markdown",
      "source": [
        "**Identify anger**"
      ],
      "metadata": {
        "id": "ojEJCPqahk4e"
      }
    },
    {
      "cell_type": "code",
      "source": [
        "#prompt to extract a single word response whether the reviewer expresses anger\n",
        "\n",
        "prompt = f\"\"\"\n",
        "Is the writer of the following review expressing anger?\\\n",
        "The review is delimited with triple backticks. \\\n",
        "Give your answer as either yes or no.\n",
        "\n",
        "Review text: '''{air_fryer_review}'''\n",
        "\"\"\"\n",
        "response = get_completion(prompt)\n",
        "print(response)"
      ],
      "metadata": {
        "colab": {
          "base_uri": "https://localhost:8080/"
        },
        "id": "prHr4PcDg5_8",
        "outputId": "059f2e51-908a-4241-d0b2-1051bd234ea1"
      },
      "execution_count": null,
      "outputs": [
        {
          "output_type": "stream",
          "name": "stdout",
          "text": [
            "Yes\n"
          ]
        }
      ]
    },
    {
      "cell_type": "markdown",
      "source": [
        "**Extract product and company name from customer reviews**"
      ],
      "metadata": {
        "id": "JQ7ZU52fj2dU"
      }
    },
    {
      "cell_type": "code",
      "source": [
        "#the following is the expected output/JSON format\n",
        "\"\"\"\n",
        "{\n",
        "  \"Item\": \"air fryer\",\n",
        "  \"Brand\": \"duxcon\"\n",
        "}\n",
        "\n",
        "\"\"\"\n",
        "\n",
        "prompt = f\"\"\"\n",
        "Identify the following items from the review text:\n",
        "- Item purchased by reviewer\n",
        "- Company that made the item\n",
        "\n",
        "The review is delimited with triple backticks. \\\n",
        "Format your response as a JSON object with \\\n",
        "\"Item\" and \"Brand\" as the keys.\n",
        "If the information isn't present, use \"unknown\" \\\n",
        "as the value.\n",
        "Make your response as short as possible.\n",
        "\n",
        "Review text: '''{air_fryer_review}'''\n",
        "\"\"\"\n",
        "response = get_completion(prompt)\n",
        "print(response)"
      ],
      "metadata": {
        "colab": {
          "base_uri": "https://localhost:8080/"
        },
        "id": "bWOmHu7Eh65p",
        "outputId": "95ede15b-f977-4c62-99f2-4e4bbab1ecac"
      },
      "execution_count": null,
      "outputs": [
        {
          "output_type": "stream",
          "name": "stdout",
          "text": [
            "{\n",
            "  \"Item\": \"air fryer\",\n",
            "  \"Brand\": \"duxcon fryers\"\n",
            "}\n"
          ]
        }
      ]
    },
    {
      "cell_type": "markdown",
      "source": [
        "**Doing multiple tasks at once**"
      ],
      "metadata": {
        "id": "mgF8IyfRme7B"
      }
    },
    {
      "cell_type": "code",
      "source": [
        "#the following is the expected output/JSON format\n",
        "\"\"\"\n",
        "{\n",
        "  \"Sentiment\": \"negative\",\n",
        "  \"Anger\": true,\n",
        "  \"Item\": \"air fryer\",\n",
        "  \"Brand\": \"duxcon fryers\"\n",
        "}\n",
        "\"\"\"\n",
        "prompt = f\"\"\"\n",
        "Identify the following items from the review text:\n",
        "- Sentiment (positive or negative)\n",
        "- Is the reviewer expressing anger? (true or false)\n",
        "- Item purchased by reviewer\n",
        "- Company that made the item\n",
        "\n",
        "The review is delimited with triple backticks. \\\n",
        "Format your response as a JSON object with \\\n",
        "\"Sentiment\", \"Anger\", \"Item\" and \"Brand\" as the keys.\n",
        "If the information isn't present, use \"unknown\" \\\n",
        "as the value.\n",
        "Make your response as short as possible.\n",
        "Format the Anger value as a boolean.\n",
        "\n",
        "Review text: '''{air_fryer_review}'''\n",
        "\"\"\"\n",
        "response = get_completion(prompt)\n",
        "print(response)"
      ],
      "metadata": {
        "colab": {
          "base_uri": "https://localhost:8080/"
        },
        "id": "w7U6fqIkj8SW",
        "outputId": "ddeecb46-a607-488a-998a-0bc18f0566b0"
      },
      "execution_count": null,
      "outputs": [
        {
          "output_type": "stream",
          "name": "stdout",
          "text": [
            "{\n",
            "  \"Sentiment\": \"negative\",\n",
            "  \"Anger\": true,\n",
            "  \"Item\": \"air fryer\",\n",
            "  \"Brand\": \"duxcon fryers\"\n",
            "}\n"
          ]
        }
      ]
    },
    {
      "cell_type": "markdown",
      "source": [
        "**Inferring topics**"
      ],
      "metadata": {
        "id": "vdFUH3PttOKb"
      }
    },
    {
      "cell_type": "code",
      "source": [
        "story = \"\"\"\n",
        "In a recent survey conducted by the government,\n",
        "public sector employees were asked to rate their level\n",
        "of satisfaction with the department they work at.\n",
        "The results revealed that NASA was the most popular\n",
        "department with a satisfaction rating of 95%.\n",
        "\n",
        "One NASA employee, John Smith, commented on the findings,\n",
        "stating, \"I'm not surprised that NASA came out on top.\n",
        "It's a great place to work with amazing people and\n",
        "incredible opportunities. I'm proud to be a part of\n",
        "such an innovative organization.\"\n",
        "\n",
        "The results were also welcomed by NASA's management team,\n",
        "with Director Tom Johnson stating, \"We are thrilled to\n",
        "hear that our employees are satisfied with their work at NASA.\n",
        "We have a talented and dedicated team who work tirelessly\n",
        "to achieve our goals, and it's fantastic to see that their\n",
        "hard work is paying off.\"\n",
        "\n",
        "The survey also revealed that the\n",
        "Social Security Administration had the lowest satisfaction\n",
        "rating, with only 45% of employees indicating they were\n",
        "satisfied with their job. The government has pledged to\n",
        "address the concerns raised by employees in the survey and\n",
        "work towards improving job satisfaction across all departments.\n",
        "\"\"\""
      ],
      "metadata": {
        "id": "ghozGQPrn8EY"
      },
      "execution_count": null,
      "outputs": []
    },
    {
      "cell_type": "markdown",
      "source": [
        "**Infer 5 topics**"
      ],
      "metadata": {
        "id": "QGDJpYuBtfha"
      }
    },
    {
      "cell_type": "code",
      "source": [
        "prompt = f\"\"\"\n",
        "Determine five topics that are being discussed in the \\\n",
        "following text, which is delimited by triple backticks.\n",
        "\n",
        "Make each item one or two words long.\n",
        "\n",
        "Please format it in the form of list python separated by comas.\n",
        "\n",
        "Text sample: '''{story}'''\n",
        "\"\"\"\n",
        "response = get_completion(prompt)\n",
        "print(response)"
      ],
      "metadata": {
        "colab": {
          "base_uri": "https://localhost:8080/"
        },
        "id": "5RcDIpdpthTb",
        "outputId": "66aad6be-d213-4cc4-e565-f42453492903"
      },
      "execution_count": null,
      "outputs": [
        {
          "output_type": "stream",
          "name": "stdout",
          "text": [
            "government, public sector employees, department satisfaction rating, NASA, Social Security Administration\n"
          ]
        }
      ]
    },
    {
      "cell_type": "code",
      "source": [
        "response.split(sep=',')"
      ],
      "metadata": {
        "colab": {
          "base_uri": "https://localhost:8080/"
        },
        "id": "RxhGj67ztl_R",
        "outputId": "a7a94b6a-67da-4594-faf3-fc5e5f2afd59"
      },
      "execution_count": null,
      "outputs": [
        {
          "output_type": "execute_result",
          "data": {
            "text/plain": [
              "['government',\n",
              " ' public sector employees',\n",
              " ' department satisfaction rating',\n",
              " ' NASA',\n",
              " ' Social Security Administration']"
            ]
          },
          "metadata": {},
          "execution_count": 13
        }
      ]
    },
    {
      "cell_type": "code",
      "source": [
        "topic_list = [\n",
        "    \"nasa\", \"local government\", \"engineering\",\n",
        "    \"employee satisfaction\", \"federal government\"\n",
        "]"
      ],
      "metadata": {
        "id": "Ky5dQ37VtxKR"
      },
      "execution_count": null,
      "outputs": []
    },
    {
      "cell_type": "markdown",
      "source": [
        "**Make a news alert for certain topics**"
      ],
      "metadata": {
        "id": "ujn25AEYuBWY"
      }
    },
    {
      "cell_type": "code",
      "source": [
        "# here we are asking the model to give a response in terms of key value pair\n",
        "#following is the expected output\n",
        "\"\"\"\n",
        "{\n",
        "  \"nasa\": 1,\n",
        "  \"local government\": 0,\n",
        "  \"engineering\": 0,\n",
        "  \"employee satisfaction\": 1,\n",
        "  \"federal government\": 1\n",
        "}\n",
        "\"\"\"\n",
        "prompt = f\"\"\"\n",
        "Determine whether each item in the following list of \\\n",
        "topics is a topic in the text below, which\n",
        "is delimited with triple backticks.\n",
        "\n",
        "Give your answer as JSON format with 0 or 1 for each topic.\\\n",
        "\n",
        "List of topics: {\",\".join(topic_list)}\n",
        "\n",
        "Text sample: '''{story}'''\n",
        "\"\"\"\n",
        "response = get_completion(prompt)\n",
        "\n",
        "\n",
        "print(response)\n"
      ],
      "metadata": {
        "colab": {
          "base_uri": "https://localhost:8080/"
        },
        "id": "0WwGAGLst9nf",
        "outputId": "0269dc35-5d86-4004-fdb9-a2f22e352f6a"
      },
      "execution_count": null,
      "outputs": [
        {
          "output_type": "stream",
          "name": "stdout",
          "text": [
            "{\n",
            "  \"nasa\": 1,\n",
            "  \"local government\": 0,\n",
            "  \"engineering\": 0,\n",
            "  \"employee satisfaction\": 1,\n",
            "  \"federal government\": 1\n",
            "}\n"
          ]
        }
      ]
    },
    {
      "cell_type": "markdown",
      "source": [
        "Here We are importing the json module just to convert the json format to python dictionary"
      ],
      "metadata": {
        "id": "oiv86VjQyTb-"
      }
    },
    {
      "cell_type": "code",
      "source": [
        "import json\n",
        "dictionary={}\n",
        "dictionary=json.loads(response)"
      ],
      "metadata": {
        "id": "K2qz3Omzxy7f"
      },
      "execution_count": null,
      "outputs": []
    },
    {
      "cell_type": "code",
      "source": [
        "for key,value in dictionary.items():\n",
        "  if key==\"nasa\":\n",
        "    print(\"Alert a news about NASA\")"
      ],
      "metadata": {
        "colab": {
          "base_uri": "https://localhost:8080/"
        },
        "id": "Y4E9qCrGuWSI",
        "outputId": "2838812b-4948-4129-df69-99fbff30e048"
      },
      "execution_count": null,
      "outputs": [
        {
          "output_type": "stream",
          "name": "stdout",
          "text": [
            "Alert a news about NASA\n"
          ]
        }
      ]
    },
    {
      "cell_type": "code",
      "source": [],
      "metadata": {
        "id": "HfiGy9zkwkA1"
      },
      "execution_count": null,
      "outputs": []
    }
  ]
}