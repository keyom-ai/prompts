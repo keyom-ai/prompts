{
  "nbformat": 4,
  "nbformat_minor": 0,
  "metadata": {
    "colab": {
      "provenance": [],
      "include_colab_link": true
    },
    "kernelspec": {
      "name": "python3",
      "display_name": "Python 3"
    },
    "language_info": {
      "name": "python"
    }
  },
  "cells": [
    {
      "cell_type": "markdown",
      "metadata": {
        "id": "view-in-github",
        "colab_type": "text"
      },
      "source": [
        "<a href=\"https://colab.research.google.com/github/keyom-ai/prompts/blob/main/Iteravtive_2.ipynb\" target=\"_parent\"><img src=\"https://colab.research.google.com/assets/colab-badge.svg\" alt=\"Open In Colab\"/></a>"
      ]
    },
    {
      "cell_type": "markdown",
      "source": [
        "**Iterative Prompt Development**\n",
        "\n",
        "In this lesson, you'll iteratively analyze and refine your prompts to generate marketing copy from a product fact sheet.\n",
        "\n",
        "**Setup**"
      ],
      "metadata": {
        "id": "6r8846MCCohL"
      }
    },
    {
      "cell_type": "code",
      "execution_count": null,
      "metadata": {
        "colab": {
          "base_uri": "https://localhost:8080/"
        },
        "id": "gNN4bSqj5zU0",
        "outputId": "5bfb875d-8404-4b47-ed0a-63af82a8b1b5"
      },
      "outputs": [
        {
          "output_type": "stream",
          "name": "stdout",
          "text": [
            "Collecting openai==0.27\n",
            "  Downloading openai-0.27.0-py3-none-any.whl (70 kB)\n",
            "\u001b[?25l     \u001b[90m━━━━━━━━━━━━━━━━━━━━━━━━━━━━━━━━━━━━━━━━\u001b[0m \u001b[32m0.0/70.1 kB\u001b[0m \u001b[31m?\u001b[0m eta \u001b[36m-:--:--\u001b[0m\r\u001b[2K     \u001b[90m━━━━━━━━━━━━━━━━━━━━━━━━━━━━━━━━━━━━━━━━\u001b[0m \u001b[32m70.1/70.1 kB\u001b[0m \u001b[31m1.9 MB/s\u001b[0m eta \u001b[36m0:00:00\u001b[0m\n",
            "\u001b[?25hRequirement already satisfied: requests>=2.20 in /usr/local/lib/python3.10/dist-packages (from openai==0.27) (2.31.0)\n",
            "Requirement already satisfied: tqdm in /usr/local/lib/python3.10/dist-packages (from openai==0.27) (4.66.1)\n",
            "Requirement already satisfied: aiohttp in /usr/local/lib/python3.10/dist-packages (from openai==0.27) (3.8.6)\n",
            "Requirement already satisfied: charset-normalizer<4,>=2 in /usr/local/lib/python3.10/dist-packages (from requests>=2.20->openai==0.27) (3.3.2)\n",
            "Requirement already satisfied: idna<4,>=2.5 in /usr/local/lib/python3.10/dist-packages (from requests>=2.20->openai==0.27) (3.4)\n",
            "Requirement already satisfied: urllib3<3,>=1.21.1 in /usr/local/lib/python3.10/dist-packages (from requests>=2.20->openai==0.27) (2.0.7)\n",
            "Requirement already satisfied: certifi>=2017.4.17 in /usr/local/lib/python3.10/dist-packages (from requests>=2.20->openai==0.27) (2023.7.22)\n",
            "Requirement already satisfied: attrs>=17.3.0 in /usr/local/lib/python3.10/dist-packages (from aiohttp->openai==0.27) (23.1.0)\n",
            "Requirement already satisfied: multidict<7.0,>=4.5 in /usr/local/lib/python3.10/dist-packages (from aiohttp->openai==0.27) (6.0.4)\n",
            "Requirement already satisfied: async-timeout<5.0,>=4.0.0a3 in /usr/local/lib/python3.10/dist-packages (from aiohttp->openai==0.27) (4.0.3)\n",
            "Requirement already satisfied: yarl<2.0,>=1.0 in /usr/local/lib/python3.10/dist-packages (from aiohttp->openai==0.27) (1.9.2)\n",
            "Requirement already satisfied: frozenlist>=1.1.1 in /usr/local/lib/python3.10/dist-packages (from aiohttp->openai==0.27) (1.4.0)\n",
            "Requirement already satisfied: aiosignal>=1.1.2 in /usr/local/lib/python3.10/dist-packages (from aiohttp->openai==0.27) (1.3.1)\n",
            "Installing collected packages: openai\n",
            "\u001b[31mERROR: pip's dependency resolver does not currently take into account all the packages that are installed. This behaviour is the source of the following dependency conflicts.\n",
            "llmx 0.0.15a0 requires cohere, which is not installed.\n",
            "llmx 0.0.15a0 requires tiktoken, which is not installed.\u001b[0m\u001b[31m\n",
            "\u001b[0mSuccessfully installed openai-0.27.0\n"
          ]
        }
      ],
      "source": [
        "pip install openai==0.27"
      ]
    },
    {
      "cell_type": "code",
      "source": [
        "import openai\n",
        "openai.api_key = 'sk-abcdefghijklmnopqrstuvwxyz0123456789'"
      ],
      "metadata": {
        "id": "Cq1plBfnDCJ3"
      },
      "execution_count": null,
      "outputs": []
    },
    {
      "cell_type": "markdown",
      "source": [
        "**Helper function**\n",
        "\n",
        "Throughout this course, we will use OpenAI's gpt-3.5-turbo model and the [chat completions endpoint.](https://platform.openai.com/docs/guides/text-generation/chat-completions-api)\n",
        "\n",
        "This helper function will make it easier to use prompts and look at the generated outputs."
      ],
      "metadata": {
        "id": "o7uhvNXuDSKn"
      }
    },
    {
      "cell_type": "code",
      "source": [
        "def get_completion(prompt, model=\"gpt-3.5-turbo\"):\n",
        "    messages = [{\"role\": \"user\", \"content\": prompt}]\n",
        "    response = openai.ChatCompletion.create(\n",
        "        model=model,\n",
        "        messages=messages,\n",
        "        temperature=0.4, # this is the degree of randomness of the model's output\n",
        "    )\n",
        "    return response['choices'][0]['message']['content']"
      ],
      "metadata": {
        "id": "1mYyDENuDNyF"
      },
      "execution_count": null,
      "outputs": []
    },
    {
      "cell_type": "markdown",
      "source": [
        "**Generate a marketing product description from a product fact sheet**"
      ],
      "metadata": {
        "id": "HEPb-iwLN4VF"
      }
    },
    {
      "cell_type": "code",
      "source": [
        "fact_dining_table = \"\"\"\n",
        "**OVERVIEW:**\n",
        "- Introducing an exquisite addition to our collection of contemporary dining furniture, our mid-century inspired dining table effortlessly blends elegance and functionality.\n",
        "- Explore various configurations, including dining tables of different sizes and shapes, to create your ideal dining space.\n",
        "- Choose from a diverse range of tabletop materials, such as wood, glass, and marble, to suit your taste and interior decor.\n",
        "- Available in an array of leg finishes, including walnut, oak, espresso, and chrome, allowing you to personalize your dining table.\n",
        "- Designed for versatility, perfect for elevating the ambiance of your dining room, kitchen, or modern entertaining space.\n",
        "\n",
        "**CONSTRUCTION:**\n",
        "- Robust hardwood frame for durability and longevity.\n",
        "- Thoughtfully crafted tabletop for a stylish and practical dining experience.\n",
        "- Modular design for easy assembly and customization.\n",
        "\n",
        "**DIMENSIONS:**\n",
        "- DINING TABLE:\n",
        "  - WIDTH 180 CM | 70.86”\n",
        "  - DEPTH 90 CM | 35.43”\n",
        "  - HEIGHT 75 CM | 29.52”\n",
        "  - TABLETOP THICKNESS 3 CM | 1.18”\n",
        "\n",
        "**OPTIONS:**\n",
        "- Choose between different shapes, such as rectangular, round, or oval, to suit your space and preferences.\n",
        "- Select from a range of leg styles, including tapered wood or sleek metal, for a personalized touch.\n",
        "- Customize the dining table with coordinating chairs and accessories to enhance comfort and style.\n",
        "\n",
        "**MATERIALS:**\n",
        "- Tabletop Options: High-quality wood, tempered glass, or luxurious marble.\n",
        "- Frame: Hardwood for durability and stability.\n",
        "- Craftsmanship: Meticulously crafted for both aesthetics and functionality.\n",
        "\n",
        "**COUNTRY OF ORIGIN:**\n",
        "-  france.\n",
        "\"\"\""
      ],
      "metadata": {
        "id": "iyNs4MVREG4b"
      },
      "execution_count": null,
      "outputs": []
    },
    {
      "cell_type": "code",
      "source": [
        "prompt = f\"\"\"\n",
        "Your task is to help the marketing team to create a\n",
        "description or summary for a retail website of a product based\n",
        "on a technical fact sheet.\n",
        "\n",
        "\n",
        "Write a product description based on the information\n",
        "provided in the technical specifications delimited by\n",
        "triple backticks.\n",
        "\n",
        "\n",
        "Technical specifications: ```{fact_dining_table}```\n",
        "\"\"\"\n",
        "response = get_completion(prompt)\n",
        "print(response)"
      ],
      "metadata": {
        "colab": {
          "base_uri": "https://localhost:8080/"
        },
        "id": "7KTC4GX6SeHC",
        "outputId": "40601580-0e71-4d20-a942-860581d189fd"
      },
      "execution_count": null,
      "outputs": [
        {
          "output_type": "stream",
          "name": "stdout",
          "text": [
            "Introducing our exquisite mid-century inspired dining table, a perfect addition to our collection of contemporary dining furniture. This elegant and functional piece effortlessly blends style and practicality, allowing you to create your ideal dining space.\n",
            "\n",
            "With various configurations available, including different sizes and shapes, you have the freedom to customize your dining table to suit your preferences and space. Choose from a diverse range of tabletop materials, such as wood, glass, or marble, to match your taste and interior decor. The options don't stop there, as you can also select from a variety of leg finishes, including walnut, oak, espresso, or chrome, to personalize your dining table even further.\n",
            "\n",
            "Constructed with a robust hardwood frame, this dining table is built to last. The thoughtfully crafted tabletop ensures a stylish and practical dining experience, while the modular design allows for easy assembly and customization.\n",
            "\n",
            "The dimensions of the dining table are as follows: width 180 cm (70.86\"), depth 90 cm (35.43\"), height 75 cm (29.52\"), and tabletop thickness 3 cm (1.18\").\n",
            "\n",
            "Not only can you choose between different shapes, such as rectangular, round, or oval, but you can also select from a range of leg styles, including tapered wood or sleek metal, to add a personalized touch to your dining table. Enhance comfort and style by customizing your dining table with coordinating chairs and accessories.\n",
            "\n",
            "When it comes to materials, you have options. The tabletop can be made of high-quality wood, tempered glass, or luxurious marble. The frame is crafted from hardwood, ensuring durability and stability. Every detail of this dining table is meticulously crafted for both aesthetics and functionality.\n",
            "\n",
            "This dining table is designed for versatility, making it perfect for elevating the ambiance of your dining room, kitchen, or modern entertaining space. Add a touch of elegance and sophistication to your home with this exceptional piece.\n",
            "\n",
            "Country of origin: France.\n"
          ]
        }
      ]
    },
    {
      "cell_type": "markdown",
      "source": [
        "**Issue 1: The text is too long**\n",
        "\n",
        "Limit the number of words/sentences/characters"
      ],
      "metadata": {
        "id": "LehURV63eXJN"
      }
    },
    {
      "cell_type": "code",
      "source": [
        "prompt = f\"\"\"\n",
        "Your task is to help the marketing team to create a\n",
        "description for a retail website of a product based\n",
        "on a technical fact sheet.\n",
        "\n",
        "\n",
        "Write a product description based on the information\n",
        "provided in the technical specifications delimited by\n",
        "triple backticks.\n",
        "\n",
        "Use at most 50 words.\n",
        "\n",
        "\n",
        "\n",
        "Technical specifications: ```{fact_dining_table}```\n",
        "\"\"\"\n",
        "response = get_completion(prompt)\n",
        "print(response)"
      ],
      "metadata": {
        "colab": {
          "base_uri": "https://localhost:8080/"
        },
        "id": "GOaFcmCBXUVV",
        "outputId": "96238afc-12ff-4763-eee7-ef9fe0e4dc7a"
      },
      "execution_count": null,
      "outputs": [
        {
          "output_type": "stream",
          "name": "stdout",
          "text": [
            "Introducing our exquisite mid-century inspired dining table, blending elegance and functionality. Choose from various sizes, shapes, and tabletop materials to suit your taste. With customizable leg finishes, this versatile table is perfect for any dining space. Crafted with a robust hardwood frame and easy assembly, it offers both durability and style.\n"
          ]
        }
      ]
    },
    {
      "cell_type": "code",
      "source": [
        "print(len(response.split()))"
      ],
      "metadata": {
        "colab": {
          "base_uri": "https://localhost:8080/"
        },
        "id": "CMD_IKP4evAO",
        "outputId": "c7621969-5f62-4efc-b878-27e6f618a983"
      },
      "execution_count": null,
      "outputs": [
        {
          "output_type": "stream",
          "name": "stdout",
          "text": [
            "51\n"
          ]
        }
      ]
    },
    {
      "cell_type": "markdown",
      "source": [
        "**Issue 2. Text focuses on the wrong details**\n",
        "\n",
        "Ask it to focus on the aspects that are relevant to the intended audience."
      ],
      "metadata": {
        "id": "pwIx9-0pj8UI"
      }
    },
    {
      "cell_type": "code",
      "source": [
        "prompt = f\"\"\"\n",
        "Your task is to help a marketing team create a\n",
        "description for a retail website of a product based\n",
        "on a technical fact sheet.\n",
        "\n",
        "Write a product description based on the information\n",
        "provided in the technical specifications delimited by\n",
        "triple backticks.\n",
        "\n",
        "The description is intended for furniture retailers,\n",
        "so should be technical in nature and focus on the\n",
        "materials the product is constructed from.\n",
        "\n",
        "Use at most 50 words.\n",
        "\n",
        "Technical specifications: ```{fact_dining_table}```\n",
        "\"\"\"\n",
        "response = get_completion(prompt)\n",
        "print(response)"
      ],
      "metadata": {
        "colab": {
          "base_uri": "https://localhost:8080/"
        },
        "id": "SPVbi5bhgfQR",
        "outputId": "bfaeb4eb-e441-4552-9294-e9d2c988a9d3"
      },
      "execution_count": null,
      "outputs": [
        {
          "output_type": "stream",
          "name": "stdout",
          "text": [
            "Introducing our exquisite collection of contemporary dining furniture. Our mid-century inspired dining table effortlessly blends elegance and functionality. Choose from different sizes and shapes, with tabletop materials such as wood, glass, or marble. Personalize with leg finishes including walnut, oak, espresso, or chrome. Crafted for durability and easy assembly. Elevate your dining space with versatility and style.\n"
          ]
        }
      ]
    },
    {
      "cell_type": "markdown",
      "source": [
        "**Issue 3. Description needs a table of dimensions**\n",
        "- Ask it to extract information and organize it in a table."
      ],
      "metadata": {
        "id": "UEyr0kgklqLq"
      }
    },
    {
      "cell_type": "code",
      "source": [
        "prompt = f\"\"\"\n",
        "Your task is to help a marketing team create a\n",
        "description for a retail website of a product based\n",
        "on a technical fact sheet.\n",
        "\n",
        "Write a product description based on the information\n",
        "provided in the technical specifications delimited by\n",
        "triple backticks.\n",
        "\n",
        "The description is intended for furniture retailers,\n",
        "so should be technical in nature and focus on the\n",
        "materials the product is constructed from.\n",
        "\n",
        "\n",
        "After the description, include a table that gives the\n",
        "product's dimensions. The table should have two columns.\n",
        "In the first column include the name of the dimension.\n",
        "In the second column include the measurements in inches only.\n",
        "\n",
        "Give the table the title 'Product Dimensions'.\n",
        "\n",
        "Format everything as HTML that can be used in a website.\n",
        "Place the description in a <div> element.\n",
        "\n",
        "Technical specifications: ```{fact_dining_table}```\n",
        "\"\"\"\n",
        "\n",
        "response = get_completion(prompt)\n",
        "print(response)"
      ],
      "metadata": {
        "colab": {
          "base_uri": "https://localhost:8080/"
        },
        "id": "n5aHZiG3lU-l",
        "outputId": "dd9a04dc-dcc1-49a0-e3aa-afab08f46f38"
      },
      "execution_count": null,
      "outputs": [
        {
          "output_type": "stream",
          "name": "stdout",
          "text": [
            "<div>\n",
            "  <h2>Product Description</h2>\n",
            "  <p>Introducing an exquisite addition to our collection of contemporary dining furniture, our mid-century inspired dining table effortlessly blends elegance and functionality. Explore various configurations, including dining tables of different sizes and shapes, to create your ideal dining space. Choose from a diverse range of tabletop materials, such as wood, glass, and marble, to suit your taste and interior decor. Available in an array of leg finishes, including walnut, oak, espresso, and chrome, allowing you to personalize your dining table. Designed for versatility, perfect for elevating the ambiance of your dining room, kitchen, or modern entertaining space.</p>\n",
            "  <p>Constructed with a robust hardwood frame for durability and longevity, this dining table is built to last. The thoughtfully crafted tabletop provides a stylish and practical dining experience. Its modular design ensures easy assembly and customization.</p>\n",
            "  <h2>Product Dimensions</h2>\n",
            "  <table>\n",
            "    <tr>\n",
            "      <th>Name of Dimension</th>\n",
            "      <th>Measurements (in inches)</th>\n",
            "    </tr>\n",
            "    <tr>\n",
            "      <td>Width</td>\n",
            "      <td>70.86\"</td>\n",
            "    </tr>\n",
            "    <tr>\n",
            "      <td>Depth</td>\n",
            "      <td>35.43\"</td>\n",
            "    </tr>\n",
            "    <tr>\n",
            "      <td>Height</td>\n",
            "      <td>29.52\"</td>\n",
            "    </tr>\n",
            "    <tr>\n",
            "      <td>Tabletop Thickness</td>\n",
            "      <td>1.18\"</td>\n",
            "    </tr>\n",
            "  </table>\n",
            "  <p>Customize your dining experience with various options. Choose between different shapes, such as rectangular, round, or oval, to suit your space and preferences. Select from a range of leg styles, including tapered wood or sleek metal, for a personalized touch. Enhance comfort and style by customizing the dining table with coordinating chairs and accessories.</p>\n",
            "  <p>Our dining table is crafted with high-quality materials. The tabletop options include high-quality wood, tempered glass, or luxurious marble. The frame is made of hardwood for durability and stability. Meticulously crafted for both aesthetics and functionality, this dining table is a true testament to quality craftsmanship.</p>\n",
            "  <p>Country of Origin: France.</p>\n",
            "</div>\n"
          ]
        }
      ]
    },
    {
      "cell_type": "markdown",
      "source": [
        "**Load Python libraries to view HTML**"
      ],
      "metadata": {
        "id": "rA_FpVntnvQz"
      }
    },
    {
      "cell_type": "code",
      "source": [
        "from IPython.display import display, HTML"
      ],
      "metadata": {
        "id": "loXep8PcmL6n"
      },
      "execution_count": null,
      "outputs": []
    },
    {
      "cell_type": "code",
      "source": [
        "display(HTML(response))"
      ],
      "metadata": {
        "colab": {
          "base_uri": "https://localhost:8080/"
        },
        "id": "yitEEfU1muUL",
        "outputId": "6c0eebae-e54e-4512-ef58-174fa4fe7638"
      },
      "execution_count": null,
      "outputs": [
        {
          "output_type": "display_data",
          "data": {
            "text/plain": [
              "<IPython.core.display.HTML object>"
            ],
            "text/html": [
              "<div>\n",
              "  <h2>Product Description</h2>\n",
              "  <p>Introducing an exquisite addition to our collection of contemporary dining furniture, our mid-century inspired dining table effortlessly blends elegance and functionality. Explore various configurations, including dining tables of different sizes and shapes, to create your ideal dining space. Choose from a diverse range of tabletop materials, such as wood, glass, and marble, to suit your taste and interior decor. Available in an array of leg finishes, including walnut, oak, espresso, and chrome, allowing you to personalize your dining table. Designed for versatility, perfect for elevating the ambiance of your dining room, kitchen, or modern entertaining space.</p>\n",
              "  <p>Constructed with a robust hardwood frame for durability and longevity, this dining table is built to last. The thoughtfully crafted tabletop provides a stylish and practical dining experience. Its modular design ensures easy assembly and customization.</p>\n",
              "  <h2>Product Dimensions</h2>\n",
              "  <table>\n",
              "    <tr>\n",
              "      <th>Name of Dimension</th>\n",
              "      <th>Measurements (in inches)</th>\n",
              "    </tr>\n",
              "    <tr>\n",
              "      <td>Width</td>\n",
              "      <td>70.86\"</td>\n",
              "    </tr>\n",
              "    <tr>\n",
              "      <td>Depth</td>\n",
              "      <td>35.43\"</td>\n",
              "    </tr>\n",
              "    <tr>\n",
              "      <td>Height</td>\n",
              "      <td>29.52\"</td>\n",
              "    </tr>\n",
              "    <tr>\n",
              "      <td>Tabletop Thickness</td>\n",
              "      <td>1.18\"</td>\n",
              "    </tr>\n",
              "  </table>\n",
              "  <p>Customize your dining experience with various options. Choose between different shapes, such as rectangular, round, or oval, to suit your space and preferences. Select from a range of leg styles, including tapered wood or sleek metal, for a personalized touch. Enhance comfort and style by customizing the dining table with coordinating chairs and accessories.</p>\n",
              "  <p>Our dining table is crafted with high-quality materials. The tabletop options include high-quality wood, tempered glass, or luxurious marble. The frame is made of hardwood for durability and stability. Meticulously crafted for both aesthetics and functionality, this dining table is a true testament to quality craftsmanship.</p>\n",
              "  <p>Country of Origin: France.</p>\n",
              "</div>"
            ]
          },
          "metadata": {}
        }
      ]
    },
    {
      "cell_type": "code",
      "source": [],
      "metadata": {
        "id": "ZnmVESIPnG95"
      },
      "execution_count": null,
      "outputs": []
    }
  ]
}