{
  "nbformat": 4,
  "nbformat_minor": 0,
  "metadata": {
    "colab": {
      "provenance": [],
      "include_colab_link": true
    },
    "kernelspec": {
      "name": "python3",
      "display_name": "Python 3"
    },
    "language_info": {
      "name": "python"
    }
  },
  "cells": [
    {
      "cell_type": "markdown",
      "metadata": {
        "id": "view-in-github",
        "colab_type": "text"
      },
      "source": [
        "<a href=\"https://colab.research.google.com/github/keyom-ai/prompts/blob/main/Summarize_2.ipynb\" target=\"_parent\"><img src=\"https://colab.research.google.com/assets/colab-badge.svg\" alt=\"Open In Colab\"/></a>"
      ]
    },
    {
      "cell_type": "markdown",
      "source": [
        "**Summarizing**\n",
        "\n",
        "In this lesson, you will summarize text with a focus on specific topics.\n",
        "\n",
        "Setup"
      ],
      "metadata": {
        "id": "Mq-BlfGc-kY7"
      }
    },
    {
      "cell_type": "code",
      "execution_count": null,
      "metadata": {
        "colab": {
          "base_uri": "https://localhost:8080/"
        },
        "id": "OpVvT5MA-et0",
        "outputId": "fec9f751-2f0e-4efa-fd59-6fc1ffa847b5"
      },
      "outputs": [
        {
          "output_type": "stream",
          "name": "stdout",
          "text": [
            "Collecting openai==0.27\n",
            "  Downloading openai-0.27.0-py3-none-any.whl (70 kB)\n",
            "\u001b[?25l     \u001b[90m━━━━━━━━━━━━━━━━━━━━━━━━━━━━━━━━━━━━━━━━\u001b[0m \u001b[32m0.0/70.1 kB\u001b[0m \u001b[31m?\u001b[0m eta \u001b[36m-:--:--\u001b[0m\r\u001b[2K     \u001b[90m━━━━━━━━━━━━━━━━━━━━━━━━━━━━━━━━━━━━━━━━\u001b[0m \u001b[32m70.1/70.1 kB\u001b[0m \u001b[31m2.2 MB/s\u001b[0m eta \u001b[36m0:00:00\u001b[0m\n",
            "\u001b[?25hRequirement already satisfied: requests>=2.20 in /usr/local/lib/python3.10/dist-packages (from openai==0.27) (2.31.0)\n",
            "Requirement already satisfied: tqdm in /usr/local/lib/python3.10/dist-packages (from openai==0.27) (4.66.1)\n",
            "Requirement already satisfied: aiohttp in /usr/local/lib/python3.10/dist-packages (from openai==0.27) (3.8.6)\n",
            "Requirement already satisfied: charset-normalizer<4,>=2 in /usr/local/lib/python3.10/dist-packages (from requests>=2.20->openai==0.27) (3.3.2)\n",
            "Requirement already satisfied: idna<4,>=2.5 in /usr/local/lib/python3.10/dist-packages (from requests>=2.20->openai==0.27) (3.4)\n",
            "Requirement already satisfied: urllib3<3,>=1.21.1 in /usr/local/lib/python3.10/dist-packages (from requests>=2.20->openai==0.27) (2.0.7)\n",
            "Requirement already satisfied: certifi>=2017.4.17 in /usr/local/lib/python3.10/dist-packages (from requests>=2.20->openai==0.27) (2023.7.22)\n",
            "Requirement already satisfied: attrs>=17.3.0 in /usr/local/lib/python3.10/dist-packages (from aiohttp->openai==0.27) (23.1.0)\n",
            "Requirement already satisfied: multidict<7.0,>=4.5 in /usr/local/lib/python3.10/dist-packages (from aiohttp->openai==0.27) (6.0.4)\n",
            "Requirement already satisfied: async-timeout<5.0,>=4.0.0a3 in /usr/local/lib/python3.10/dist-packages (from aiohttp->openai==0.27) (4.0.3)\n",
            "Requirement already satisfied: yarl<2.0,>=1.0 in /usr/local/lib/python3.10/dist-packages (from aiohttp->openai==0.27) (1.9.2)\n",
            "Requirement already satisfied: frozenlist>=1.1.1 in /usr/local/lib/python3.10/dist-packages (from aiohttp->openai==0.27) (1.4.0)\n",
            "Requirement already satisfied: aiosignal>=1.1.2 in /usr/local/lib/python3.10/dist-packages (from aiohttp->openai==0.27) (1.3.1)\n",
            "Installing collected packages: openai\n",
            "\u001b[31mERROR: pip's dependency resolver does not currently take into account all the packages that are installed. This behaviour is the source of the following dependency conflicts.\n",
            "llmx 0.0.15a0 requires cohere, which is not installed.\n",
            "llmx 0.0.15a0 requires tiktoken, which is not installed.\u001b[0m\u001b[31m\n",
            "\u001b[0mSuccessfully installed openai-0.27.0\n"
          ]
        }
      ],
      "source": [
        "pip install openai==0.27"
      ]
    },
    {
      "cell_type": "code",
      "source": [
        "import openai\n",
        "openai.api_key = 'sk-abcdefghijklmnopqrstuvwxyz0123456789'"
      ],
      "metadata": {
        "id": "IWB4vu0q-4pK"
      },
      "execution_count": null,
      "outputs": []
    },
    {
      "cell_type": "markdown",
      "source": [
        "**Helper function**\n",
        "\n",
        "Throughout this course, we will use OpenAI's gpt-3.5-turbo model and the [chat completions endpoint.](https://platform.openai.com/docs/guides/text-generation/chat-completions-api)\n",
        "\n",
        "This helper function will make it easier to use prompts and look at the generated outputs."
      ],
      "metadata": {
        "id": "Zi7wqZUf-0wo"
      }
    },
    {
      "cell_type": "code",
      "source": [
        "def get_completion(prompt, model=\"gpt-3.5-turbo\"):\n",
        "    messages = [{\"role\": \"user\", \"content\": prompt}]\n",
        "    response = openai.ChatCompletion.create(\n",
        "        model=model,\n",
        "        messages=messages,\n",
        "        temperature=0.4, # this is the degree of randomness of the model's output\n",
        "    )\n",
        "    return response['choices'][0]['message']['content']"
      ],
      "metadata": {
        "id": "77oSqAtH_Buc"
      },
      "execution_count": null,
      "outputs": []
    },
    {
      "cell_type": "markdown",
      "source": [
        "Text to summarize"
      ],
      "metadata": {
        "id": "w3u9egfa_vV4"
      }
    },
    {
      "cell_type": "code",
      "source": [
        "prod_review = \"\"\"\n",
        "Purchased this remote control race car for my son's birthday, and it has quickly become a favorite in our household.\\\n",
        "The car's design is thrilling with vibrant colors, capturing my son's excitement.\\\n",
        "He enjoys navigating it effortlessly with the user-friendly remote control, creating endless entertainment.\\\n",
        "Similar to the panda plush toy, it's a tad smaller than anticipated for the price, but the joy it brings compensates for the size.\\\n",
        "The surprise bonus of an early delivery allowed me to test its features beforehand, ensuring it was in top shape for my son's big day.\\\n",
        "While improvements in size and battery life could enhance the overall experience,\\\n",
        "the remote control race car has undoubtedly delivered on the fun factor and made for a memorable birthday gift.\n",
        "\"\"\""
      ],
      "metadata": {
        "id": "GeHTj7GN_vwV"
      },
      "execution_count": null,
      "outputs": []
    },
    {
      "cell_type": "markdown",
      "source": [
        "**Summarize with a  word/sentence/character limit**\n",
        "\n",
        "We have used word to limit the summary length.\n",
        "\n",
        "\n",
        "\n"
      ],
      "metadata": {
        "id": "HMuCFAvL_IDZ"
      }
    },
    {
      "cell_type": "code",
      "source": [
        "prompt = f\"\"\"\n",
        "Your task is to generate a short summary of a product \\\n",
        "review from an ecommerce site.\n",
        "\n",
        "Summarize the review below, delimited by triple\n",
        "backticks, in at most 30 words.\n",
        "\n",
        "Review: ```{prod_review}```\n",
        "\"\"\"\n",
        "\n",
        "response = get_completion(prompt)\n",
        "print(response)"
      ],
      "metadata": {
        "colab": {
          "base_uri": "https://localhost:8080/"
        },
        "id": "0o-0sEnnHRP9",
        "outputId": "3b8eb842-587e-441f-9451-44ffbc883203"
      },
      "execution_count": null,
      "outputs": [
        {
          "output_type": "stream",
          "name": "stdout",
          "text": [
            "A thrilling remote control race car that captures excitement with vibrant colors. Though smaller than expected, it delivers on fun and makes for a memorable gift.\n"
          ]
        }
      ]
    },
    {
      "cell_type": "markdown",
      "source": [
        "**Summarize with a focus on Marketing and sales**"
      ],
      "metadata": {
        "id": "knh2vfnOJDq1"
      }
    },
    {
      "cell_type": "code",
      "source": [
        "prompt = f\"\"\"\n",
        "Your task is to generate a short summary of a product \\\n",
        "review from an ecommerce site to give feedback to the \\\n",
        "marketing deparmtment.\n",
        "\n",
        "Summarize the review below, delimited by triple\n",
        "backticks, in at most 30 words, and focusing on any aspects \\\n",
        "that mention marketing and sales of the product.\n",
        "\n",
        "Review: ```{prod_review}```\n",
        "\"\"\"\n",
        "\n",
        "response = get_completion(prompt)\n",
        "print(response)"
      ],
      "metadata": {
        "colab": {
          "base_uri": "https://localhost:8080/"
        },
        "id": "qDs2kmzdIYr7",
        "outputId": "7fc780ee-d996-4906-ac7a-b162d06c2024"
      },
      "execution_count": null,
      "outputs": [
        {
          "output_type": "stream",
          "name": "stdout",
          "text": [
            "This review highlights the positive aspects of the remote control race car, such as its thrilling design and user-friendly remote control. The reviewer also mentions that the size is smaller than expected for the price but the joy it brings compensates for it. The early delivery was a surprise bonus that allowed the reviewer to test the car's features beforehand. Overall, the car has delivered on the fun factor and made for a memorable birthday gift.\n"
          ]
        }
      ]
    },
    {
      "cell_type": "markdown",
      "source": [
        "**Summarize with a focus on price and value**"
      ],
      "metadata": {
        "id": "T9VJ2rxWKYLO"
      }
    },
    {
      "cell_type": "code",
      "source": [
        "prompt = f\"\"\"\n",
        "Your task is to generate a short summary of a product \\\n",
        "review from an ecommerce site to give feedback to the \\\n",
        "pricing deparmtment, responsible for determining the \\\n",
        "price of the product.\n",
        "\n",
        "Summarize the review below, delimited by triple\n",
        "backticks, in at most 30 words, and focusing on any aspects \\\n",
        "that are relevant to the price and perceived value.\n",
        "\n",
        "Review: ```{prod_review}```\n",
        "\"\"\"\n",
        "\n",
        "response = get_completion(prompt)\n",
        "print(response)"
      ],
      "metadata": {
        "colab": {
          "base_uri": "https://localhost:8080/"
        },
        "id": "RjhcG3nnKL7Y",
        "outputId": "70f6b5c4-fd3e-4987-9952-e0027bf1d1ce"
      },
      "execution_count": null,
      "outputs": [
        {
          "output_type": "stream",
          "name": "stdout",
          "text": [
            "The remote control race car is a favorite in the household, with a thrilling design and user-friendly remote control. However, some customers find it smaller than expected for the price.\n"
          ]
        }
      ]
    },
    {
      "cell_type": "markdown",
      "source": [
        "**Try \"extract\" instead of \"summarize\"**\n",
        "\n",
        "extract the information relevant to shipping and\n",
        "delivery."
      ],
      "metadata": {
        "id": "ge6Jv82vLwaw"
      }
    },
    {
      "cell_type": "code",
      "source": [
        "prompt = f\"\"\"\n",
        "Your task is to extract relevant information from \\\n",
        "a product review from an ecommerce site to give \\\n",
        "feedback to the Shipping department.\n",
        "\n",
        "From the review below, delimited by triple quotes \\\n",
        "extract the information relevant to shipping and \\\n",
        "delivery. Limit to 30 words.\n",
        "\n",
        "Review: ```{prod_review}```\n",
        "\"\"\"\n",
        "\n",
        "response = get_completion(prompt)\n",
        "print(response)"
      ],
      "metadata": {
        "colab": {
          "base_uri": "https://localhost:8080/"
        },
        "id": "ujO6NjxEKdVt",
        "outputId": "8e7777bf-624d-44f0-d39a-a5796467ae19"
      },
      "execution_count": null,
      "outputs": [
        {
          "output_type": "stream",
          "name": "stdout",
          "text": [
            "The review mentions that the product had an early delivery, allowing the customer to test its features before the son's birthday.\n"
          ]
        }
      ]
    },
    {
      "cell_type": "markdown",
      "source": [
        "**Summarize multiple product reviews**\n",
        "\n"
      ],
      "metadata": {
        "id": "HWntiVsLNy5O"
      }
    },
    {
      "cell_type": "code",
      "source": [
        "#iphone 15\n",
        "review1=\"\"\"\n",
        "For the first time in a while, Apple's most affordable new iPhone doesn't feel miles away from the flagship.\\\n",
        "Apple finally waves goodbye to the notch in favor of the Dynamic Island on all phones in its new lineup,\\\n",
        "and on the iPhone 15 that versatile screen technology is paired with new materials, lovely contoured edges,\\\n",
        "a powerful A16 Bionic CPU, and, yes, the new USB-C port.\\\n",
        "Even the photography has been leveled up,\\\n",
        "with a 48MP camera and new portrait processing capabilities.\\\n",
        "If you want a fresh iPhone model,\\\n",
        "this is your most affordable and best option – and you won't feel like you're missing out on much\\\n",
        "\"\"\"\n",
        "\n",
        "#bose speakers\n",
        "review2= \"\"\"\n",
        "The Bose Smart Ultra Soundbar has plenty going for it.\\\n",
        "It’s reasonably compact, it’s beautifully built and finished,\\\n",
        "it calibrates itself to your environment quickly and accurately,\\\n",
        "and it has plenty of well-realized control options.\\\n",
        "And when it comes to sound quality, there’s lots to like,\\\n",
        "too – but it’s not quite the complete article, especially where the Dolby Atmos party-piece is concerned\n",
        "\"\"\"\n",
        "\n",
        "#aipods pro 2\n",
        "review3=\"\"\"\n",
        "The Apple AirPods Pro 2 arrived in late 2022 with all-new features,\\\n",
        "but notably no price increase from the original AirPods Pro released in 2019.\\\n",
        "A new H2 chip powers these true wireless earbuds bringing greater sonic performance and excellent noise cancellation,\\\n",
        "as well as improved battery life. They're not perfect for Android users,\\\n",
        "but we were absorbed by the performance on offer here – it’s a hugely worthwhile upgrade from Apple.\n",
        "\"\"\"\n",
        "\n",
        "#LG g3 TV\n",
        "review4=\"\"\"\n",
        "The LG G3 takes things up a notch with the introduction of brighter OLED TV technology that ramps up the contrast to create a stunning picture.\\\n",
        "Coupled with phenomenal gaming performance and a premium design,\\\n",
        "the G3 proves there’s still life in traditional OLED tech yet.\\\n",
        "But all of this comes at a high price, and there are areas where it's bested by high-end rivals.\"\"\"\n",
        "\n",
        "reviews=[review1,review2,review3,review4]"
      ],
      "metadata": {
        "id": "Yho6lD4hMGX6"
      },
      "execution_count": null,
      "outputs": []
    },
    {
      "cell_type": "code",
      "source": [
        "for i in range(len(reviews)):\n",
        "    prompt = f\"\"\"\n",
        "    Your task is to generate a short summary of a product \\\n",
        "    review from an ecommerce site.\n",
        "\n",
        "    Summarize the review below, delimited by triple \\\n",
        "    backticks in at most 20 words.\n",
        "\n",
        "    Review: ```{reviews[i]}```\n",
        "    \"\"\"\n",
        "\n",
        "    response = get_completion(prompt)\n",
        "    print(i+1, response, \"\\n\")"
      ],
      "metadata": {
        "colab": {
          "base_uri": "https://localhost:8080/"
        },
        "id": "MoF73bXYRSTu",
        "outputId": "1ab89d2f-6e0a-454d-c9cc-16420e9504cc"
      },
      "execution_count": null,
      "outputs": [
        {
          "output_type": "stream",
          "name": "stdout",
          "text": [
            "1 Apple's most affordable new iPhone offers a versatile screen, powerful CPU, improved photography, and USB-C port. \n",
            "\n",
            "2 The Bose Smart Ultra Soundbar is compact, well-built, and has great sound quality, but lacks in Dolby Atmos. \n",
            "\n",
            "3 The Apple AirPods Pro 2 offer improved performance and features without a price increase, making them a worthwhile upgrade. \n",
            "\n",
            "4 The LG G3 offers impressive OLED TV technology and gaming performance, but is outperformed by pricier competitors. \n",
            "\n"
          ]
        }
      ]
    },
    {
      "cell_type": "code",
      "source": [],
      "metadata": {
        "id": "Xm8UN11pRVN8"
      },
      "execution_count": null,
      "outputs": []
    }
  ]
}