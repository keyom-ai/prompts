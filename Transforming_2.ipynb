{
  "nbformat": 4,
  "nbformat_minor": 0,
  "metadata": {
    "colab": {
      "provenance": [],
      "authorship_tag": "ABX9TyPYtNFAA0tNZCIJG52jlAMP",
      "include_colab_link": true
    },
    "kernelspec": {
      "name": "python3",
      "display_name": "Python 3"
    },
    "language_info": {
      "name": "python"
    }
  },
  "cells": [
    {
      "cell_type": "markdown",
      "metadata": {
        "id": "view-in-github",
        "colab_type": "text"
      },
      "source": [
        "<a href=\"https://colab.research.google.com/github/keyom-ai/prompts/blob/main/Transforming_2.ipynb\" target=\"_parent\"><img src=\"https://colab.research.google.com/assets/colab-badge.svg\" alt=\"Open In Colab\"/></a>"
      ]
    },
    {
      "cell_type": "markdown",
      "source": [
        "**Transforming**\n",
        "\n",
        "\n",
        "In this notebook, we will explore how to use Large Language Models for text transformation tasks such as language translation, spelling and grammar checking, tone adjustment, and format conversion.\n",
        "\n",
        "Setup"
      ],
      "metadata": {
        "id": "bUim32IuFVuL"
      }
    },
    {
      "cell_type": "code",
      "execution_count": null,
      "metadata": {
        "colab": {
          "base_uri": "https://localhost:8080/"
        },
        "id": "b-LpcYEDCeH1",
        "outputId": "1f237fa0-f0ad-49fa-aa22-f61955b68a28"
      },
      "outputs": [
        {
          "output_type": "stream",
          "name": "stdout",
          "text": [
            "Requirement already satisfied: openai==0.27 in /usr/local/lib/python3.10/dist-packages (0.27.0)\n",
            "Requirement already satisfied: requests>=2.20 in /usr/local/lib/python3.10/dist-packages (from openai==0.27) (2.31.0)\n",
            "Requirement already satisfied: tqdm in /usr/local/lib/python3.10/dist-packages (from openai==0.27) (4.66.1)\n",
            "Requirement already satisfied: aiohttp in /usr/local/lib/python3.10/dist-packages (from openai==0.27) (3.8.6)\n",
            "Requirement already satisfied: charset-normalizer<4,>=2 in /usr/local/lib/python3.10/dist-packages (from requests>=2.20->openai==0.27) (3.3.2)\n",
            "Requirement already satisfied: idna<4,>=2.5 in /usr/local/lib/python3.10/dist-packages (from requests>=2.20->openai==0.27) (3.4)\n",
            "Requirement already satisfied: urllib3<3,>=1.21.1 in /usr/local/lib/python3.10/dist-packages (from requests>=2.20->openai==0.27) (2.0.7)\n",
            "Requirement already satisfied: certifi>=2017.4.17 in /usr/local/lib/python3.10/dist-packages (from requests>=2.20->openai==0.27) (2023.7.22)\n",
            "Requirement already satisfied: attrs>=17.3.0 in /usr/local/lib/python3.10/dist-packages (from aiohttp->openai==0.27) (23.1.0)\n",
            "Requirement already satisfied: multidict<7.0,>=4.5 in /usr/local/lib/python3.10/dist-packages (from aiohttp->openai==0.27) (6.0.4)\n",
            "Requirement already satisfied: async-timeout<5.0,>=4.0.0a3 in /usr/local/lib/python3.10/dist-packages (from aiohttp->openai==0.27) (4.0.3)\n",
            "Requirement already satisfied: yarl<2.0,>=1.0 in /usr/local/lib/python3.10/dist-packages (from aiohttp->openai==0.27) (1.9.2)\n",
            "Requirement already satisfied: frozenlist>=1.1.1 in /usr/local/lib/python3.10/dist-packages (from aiohttp->openai==0.27) (1.4.0)\n",
            "Requirement already satisfied: aiosignal>=1.1.2 in /usr/local/lib/python3.10/dist-packages (from aiohttp->openai==0.27) (1.3.1)\n"
          ]
        }
      ],
      "source": [
        "pip install openai==0.27"
      ]
    },
    {
      "cell_type": "code",
      "source": [
        "import openai\n",
        "openai.api_key = input(\"Enter your API key: \")"
      ],
      "metadata": {
        "id": "njt640GXFrLz"
      },
      "execution_count": null,
      "outputs": []
    },
    {
      "cell_type": "markdown",
      "source": [
        "**Helper function**\n",
        "\n",
        "Throughout this course, we will use OpenAI's gpt-3.5-turbo model and the [chat completions endpoint.](https://platform.openai.com/docs/guides/text-generation/chat-completions-api)\n",
        "\n",
        "This helper function will make it easier to use prompts and look at the generated outputs."
      ],
      "metadata": {
        "id": "rQv2J_67FnZa"
      }
    },
    {
      "cell_type": "code",
      "source": [
        "def get_completion(prompt, model=\"gpt-3.5-turbo\"):\n",
        "    messages = [{\"role\": \"user\", \"content\": prompt}]\n",
        "    response = openai.ChatCompletion.create(\n",
        "        model=model,\n",
        "        messages=messages,\n",
        "        temperature=0.4, # this is the degree of randomness of the model's output\n",
        "    )\n",
        "    return response['choices'][0]['message']['content']"
      ],
      "metadata": {
        "id": "G6aYyGf5FyfX"
      },
      "execution_count": null,
      "outputs": []
    },
    {
      "cell_type": "markdown",
      "source": [
        "**Translation**\n",
        "\n",
        "ChatGPT is trained with sources in many languages. This gives the model the ability to do translation. Here are some examples of how to use this capability."
      ],
      "metadata": {
        "id": "NCMwTHJzHMgs"
      }
    },
    {
      "cell_type": "code",
      "source": [
        "#here we are translating from english to spanish\n",
        "prompt = f\"\"\"\n",
        "Translate the following English text to Spanish: \\\n",
        "```Hi, I would like to order a television```\n",
        "\"\"\"\n",
        "response = get_completion(prompt)\n",
        "print(response)"
      ],
      "metadata": {
        "colab": {
          "base_uri": "https://localhost:8080/"
        },
        "id": "IzMJCOnWGF5C",
        "outputId": "6b7289c2-80d5-433a-ccc8-dc471ee4d019"
      },
      "execution_count": null,
      "outputs": [
        {
          "output_type": "stream",
          "name": "stdout",
          "text": [
            "Hola, me gustaría ordenar un televisor.\n"
          ]
        }
      ]
    },
    {
      "cell_type": "code",
      "source": [
        "#here we are asking which language the following sentence is\n",
        "prompt = f\"\"\"\n",
        "Tell me which language this is:\n",
        "```Es un día soleado```\n",
        "\"\"\"\n",
        "response = get_completion(prompt)\n",
        "print(response)\n",
        "\n"
      ],
      "metadata": {
        "colab": {
          "base_uri": "https://localhost:8080/"
        },
        "id": "SCOcGBL5HeCG",
        "outputId": "bd397dd9-6f66-41c0-c2ae-60034288cdee"
      },
      "execution_count": null,
      "outputs": [
        {
          "output_type": "stream",
          "name": "stdout",
          "text": [
            "This language is Spanish.\n"
          ]
        }
      ]
    },
    {
      "cell_type": "code",
      "source": [
        "prompt = f\"\"\"\n",
        "Translate the following  text to French and Spanish\n",
        "and English pirate: \\\n",
        "```I want to order a basketball```\n",
        "\"\"\"\n",
        "response = get_completion(prompt)\n",
        "print(response)"
      ],
      "metadata": {
        "colab": {
          "base_uri": "https://localhost:8080/"
        },
        "id": "uucC_kThJu9g",
        "outputId": "1af8cad6-8250-418b-94ee-047fa117c94f"
      },
      "execution_count": null,
      "outputs": [
        {
          "output_type": "stream",
          "name": "stdout",
          "text": [
            "French: ```Je veux commander un ballon de basket```\n",
            "Spanish: ```Quiero ordenar una pelota de baloncesto```\n",
            "English: ```I want to order a basketball```\n"
          ]
        }
      ]
    },
    {
      "cell_type": "code",
      "source": [
        "prompt = f\"\"\"\n",
        "Translate the following text to Spanish in both the \\\n",
        "formal and informal forms:\n",
        "'Would you like to order a bed?'\n",
        "\"\"\"\n",
        "response = get_completion(prompt)\n",
        "print(response)"
      ],
      "metadata": {
        "colab": {
          "base_uri": "https://localhost:8080/"
        },
        "id": "wA11Z3S1Jvp5",
        "outputId": "ba5d4487-b09d-40d1-eb80-b88b47214ffe"
      },
      "execution_count": null,
      "outputs": [
        {
          "output_type": "stream",
          "name": "stdout",
          "text": [
            "Formal: ¿Le gustaría ordenar una cama?\n",
            "Informal: ¿Te gustaría ordenar una cama?\n"
          ]
        }
      ]
    },
    {
      "cell_type": "markdown",
      "source": [
        "**Universal Translator**\n",
        "\n",
        "Imagine you are in charge of IT at a large multinational e-commerce company. Users are messaging you with IT issues in all their native languages. Your staff is from all over the world and speaks only their native languages. You need a universal translator!"
      ],
      "metadata": {
        "id": "M8jkX3d0Pv02"
      }
    },
    {
      "cell_type": "code",
      "source": [
        "user_messages = [\n",
        "  \"La performance du système est plus lente que d'habitude.\",  # System performance is slower than normal\n",
        "  \"Mi monitor tiene píxeles que no se iluminan.\",              # My monitor has pixels that are not lighting\n",
        "  \"Il mio mouse non funziona\",                                 # My mouse is not working\n",
        "  \"Tastaturet mitt har en ødelagt kontrolltast\",               # My keyboard has a broken control key\n",
        "  \"我的屏幕在闪烁\"                                              # My screen is flashing\n",
        "]"
      ],
      "metadata": {
        "id": "xlT3SCwuOwf7"
      },
      "execution_count": null,
      "outputs": []
    },
    {
      "cell_type": "code",
      "source": [
        "# here we are identifying the language in which the user has conveyedd their issues in\n",
        "# also translating them to english and korean\n",
        "for issue in user_messages:\n",
        "    prompt = f\"Tell me what language this is: ```{issue}```\"\n",
        "    lang = get_completion(prompt)\n",
        "    print(f\"Original message ({lang}): {issue}\")\n",
        "\n",
        "    prompt = f\"\"\"\n",
        "    Translate the following  text to English \\\n",
        "    and Korean: ```{issue}```\n",
        "    \"\"\"\n",
        "    response = get_completion(prompt)\n",
        "    print(response, \"\\n\")"
      ],
      "metadata": {
        "colab": {
          "base_uri": "https://localhost:8080/"
        },
        "id": "dSoD5K-eP_lt",
        "outputId": "b455207c-06f3-4861-e0b1-903c1598cb05"
      },
      "execution_count": null,
      "outputs": [
        {
          "output_type": "stream",
          "name": "stdout",
          "text": [
            "Original message (The language of the given sentence is French.): La performance du système est plus lente que d'habitude.\n",
            "The performance of the system is slower than usual.\n",
            "\n",
            "시스템의 성능이 평소보다 느립니다. \n",
            "\n",
            "Original message (The language is Spanish.): Mi monitor tiene píxeles que no se iluminan.\n",
            "English translation: \"My monitor has pixels that do not light up.\"\n",
            "\n",
            "Korean translation: \"내 모니터에는 불이 켜지지 않는 픽셀이 있습니다.\" (Nae monitor-e-neun bul-i kyeojiji anhneun piksel-i issseubnida.) \n",
            "\n",
            "Original message (The language is Italian.): Il mio mouse non funziona\n",
            "English: \"My mouse is not working.\"\n",
            "\n",
            "Korean: \"마우스가 작동하지 않습니다.\" \n",
            "\n",
            "Original message (The language is Norwegian.): Tastaturet mitt har en ødelagt kontrolltast\n",
            "My keyboard has a broken control key.\n",
            "\n",
            "키보드가 Ctrl 키가 고장 났어요. \n",
            "\n",
            "Original message (The language is Chinese.): 我的屏幕在闪烁\n",
            "English translation: \"My screen is flickering.\"\n",
            "\n",
            "Korean translation: \"내 화면이 깜박거립니다.\" (Nae hwamyeon-i kkambakgeolimnida.) \n",
            "\n"
          ]
        }
      ]
    },
    {
      "cell_type": "markdown",
      "source": [
        "**Tone Transformation**\n",
        "\n",
        "Writing can vary based on the intended audience. ChatGPT can produce different tones."
      ],
      "metadata": {
        "id": "QBh8R8zVR3JK"
      }
    },
    {
      "cell_type": "code",
      "source": [
        "prompt = f\"\"\"\n",
        "Translate the following from slang to a business letter:\n",
        "'Dude, This is Joe, check out this spec on this new iphone.'\n",
        "\"\"\"\n",
        "response = get_completion(prompt)\n",
        "print(response)"
      ],
      "metadata": {
        "colab": {
          "base_uri": "https://localhost:8080/"
        },
        "id": "v0bxbT5ZVL90",
        "outputId": "869a65b4-977b-42ea-f521-606d933f0ffb"
      },
      "execution_count": null,
      "outputs": [
        {
          "output_type": "stream",
          "name": "stdout",
          "text": [
            "Dear Sir/Madam,\n",
            "\n",
            "I hope this letter finds you well. My name is Joe, and I wanted to bring to your attention an exciting specification regarding the new iPhone.\n",
            "\n",
            "Thank you for your time and consideration.\n",
            "\n",
            "Sincerely,\n",
            "Joe\n"
          ]
        }
      ]
    },
    {
      "cell_type": "markdown",
      "source": [
        "**Format Conversion**\n",
        "\n",
        "\n",
        "ChatGPT can translate between formats. The prompt should describe the input and output formats"
      ],
      "metadata": {
        "id": "IbOQBquKdP38"
      }
    },
    {
      "cell_type": "code",
      "source": [
        "data_json = { \"resturant employees\" :[\n",
        "    {\"name\":\"tommy\", \"email\":\"tommy@gmail.com\",'age':30},\n",
        "    {\"name\":\"Bob\", \"email\":\"bob32@gmail.com\",'age':26},\n",
        "    {\"name\":\"john\", \"email\":\"john@gmail.com\",'age':45}\n",
        "]}\n",
        "\n",
        "prompt = f\"\"\"\n",
        "Translate the following python dictionary from JSON to an HTML \\\n",
        "table with column headers and title: {data_json}\n",
        "\"\"\"\n",
        "response = get_completion(prompt)\n",
        "print(response)"
      ],
      "metadata": {
        "colab": {
          "base_uri": "https://localhost:8080/"
        },
        "id": "9YUosFGyc3D1",
        "outputId": "f2fa57f2-ddd1-4280-fe3d-bc49659db6ec"
      },
      "execution_count": null,
      "outputs": [
        {
          "output_type": "stream",
          "name": "stdout",
          "text": [
            "<!DOCTYPE html>\n",
            "<html>\n",
            "<head>\n",
            "<style>\n",
            "table {\n",
            "  font-family: arial, sans-serif;\n",
            "  border-collapse: collapse;\n",
            "  width: 100%;\n",
            "}\n",
            "\n",
            "td, th {\n",
            "  border: 1px solid #dddddd;\n",
            "  text-align: left;\n",
            "  padding: 8px;\n",
            "}\n",
            "\n",
            "th {\n",
            "  background-color: #dddddd;\n",
            "}\n",
            "</style>\n",
            "</head>\n",
            "<body>\n",
            "\n",
            "<h2>Restaurant Employees</h2>\n",
            "\n",
            "<table>\n",
            "  <tr>\n",
            "    <th>Name</th>\n",
            "    <th>Email</th>\n",
            "    <th>Age</th>\n",
            "  </tr>\n",
            "  <tr>\n",
            "    <td>Tommy</td>\n",
            "    <td>tommy@gmail.com</td>\n",
            "    <td>30</td>\n",
            "  </tr>\n",
            "  <tr>\n",
            "    <td>Bob</td>\n",
            "    <td>bob32@gmail.com</td>\n",
            "    <td>26</td>\n",
            "  </tr>\n",
            "  <tr>\n",
            "    <td>John</td>\n",
            "    <td>john@gmail.com</td>\n",
            "    <td>45</td>\n",
            "  </tr>\n",
            "</table>\n",
            "\n",
            "</body>\n",
            "</html>\n"
          ]
        }
      ]
    },
    {
      "cell_type": "code",
      "source": [
        "from IPython.display import display, Markdown, Latex, HTML, JSON\n",
        "display(HTML(response))"
      ],
      "metadata": {
        "colab": {
          "base_uri": "https://localhost:8080/",
          "height": 202
        },
        "id": "zlC2Mjc3dfFj",
        "outputId": "4d96bd0b-9fd3-4de7-96f8-5a22dad5a273"
      },
      "execution_count": null,
      "outputs": [
        {
          "output_type": "display_data",
          "data": {
            "text/plain": [
              "<IPython.core.display.HTML object>"
            ],
            "text/html": [
              "<!DOCTYPE html>\n",
              "<html>\n",
              "<head>\n",
              "<style>\n",
              "table {\n",
              "  font-family: arial, sans-serif;\n",
              "  border-collapse: collapse;\n",
              "  width: 100%;\n",
              "}\n",
              "\n",
              "td, th {\n",
              "  border: 1px solid #dddddd;\n",
              "  text-align: left;\n",
              "  padding: 8px;\n",
              "}\n",
              "\n",
              "th {\n",
              "  background-color: #dddddd;\n",
              "}\n",
              "</style>\n",
              "</head>\n",
              "<body>\n",
              "\n",
              "<h2>Restaurant Employees</h2>\n",
              "\n",
              "<table>\n",
              "  <tr>\n",
              "    <th>Name</th>\n",
              "    <th>Email</th>\n",
              "    <th>Age</th>\n",
              "  </tr>\n",
              "  <tr>\n",
              "    <td>Tommy</td>\n",
              "    <td>tommy@gmail.com</td>\n",
              "    <td>30</td>\n",
              "  </tr>\n",
              "  <tr>\n",
              "    <td>Bob</td>\n",
              "    <td>bob32@gmail.com</td>\n",
              "    <td>26</td>\n",
              "  </tr>\n",
              "  <tr>\n",
              "    <td>John</td>\n",
              "    <td>john@gmail.com</td>\n",
              "    <td>45</td>\n",
              "  </tr>\n",
              "</table>\n",
              "\n",
              "</body>\n",
              "</html>"
            ]
          },
          "metadata": {}
        }
      ]
    },
    {
      "cell_type": "markdown",
      "source": [
        "**Spellcheck/Grammar check.**\n",
        "\n",
        "Here are some examples of common grammar and spelling problems and the LLM's response.\n",
        "\n",
        "To signal to the LLM that you want it to proofread your text, you instruct the model to 'proofread' or 'proofread and correct'."
      ],
      "metadata": {
        "id": "L0PghluQkhk_"
      }
    },
    {
      "cell_type": "code",
      "source": [
        "text = [\n",
        "  \"The girl with the black and white puppies have a ball.\",  # The girl has a ball.\n",
        "  \"Fabi has Shalini's notebook.\", # ok\n",
        "  \"the strawberry flavoured sunday with chocolate syrup  was yummy\",  # Homonyms\n",
        "  \"Their goes my freedom. There going to bring they’re suitcases.\",  # Homonyms\n",
        "  \"Your going to need you’re notebook.\",  # Homonyms\n",
        "  \"That medicine effects my ability to sleep. Have you heard of the butterfly affect?\", # Homonyms\n",
        "  \"how do you spell congratjulation?\"  # spelling\n",
        "]\n",
        "for t in text:\n",
        "    prompt = f\"\"\"Proofread and correct the following text\n",
        "    and rewrite the corrected version. If you don't find\n",
        "    and errors, just say \"No errors found\". Don't use\n",
        "    any punctuation around the text:\n",
        "    ```{t}```\"\"\"\n",
        "    response = get_completion(prompt)\n",
        "    print(response)"
      ],
      "metadata": {
        "colab": {
          "base_uri": "https://localhost:8080/"
        },
        "id": "Tn4wzdw3fCBg",
        "outputId": "247c4bf8-e3ef-414e-acd3-37f60a4909e9"
      },
      "execution_count": null,
      "outputs": [
        {
          "output_type": "stream",
          "name": "stdout",
          "text": [
            "The girl with the black and white puppies has a ball.\n",
            "No errors found.\n",
            "The strawberry flavored sundae with chocolate syrup was yummy.\n",
            "Their goes my freedom. There going to bring they’re suitcases.\n",
            "\n",
            "No errors found.\n",
            "\n",
            "Rewritten version:\n",
            "Their goes my freedom. They're going to bring their suitcases.\n",
            "You're going to need your notebook.\n",
            "That medicine affects my ability to sleep. Have you heard of the butterfly effect?\n",
            "How do you spell congratulation?\n"
          ]
        }
      ]
    },
    {
      "cell_type": "code",
      "source": [
        "text = f\"\"\"\n",
        "The cat sat on it's mat, enjoying it's nap.\\\n",
        "Their were birds outside the window, chirping they're sweet songs.\\\n",
        "The sun shined brightly, effecting the room's temperature.\\\n",
        "Me and my friend ain't going to the store, cause it's raining.\n",
        "\"\"\"\n",
        "prompt = f\"proofread and correct this review: ```{text}```\"\n",
        "response = get_completion(prompt)\n",
        "print(response)"
      ],
      "metadata": {
        "colab": {
          "base_uri": "https://localhost:8080/"
        },
        "id": "3twj3DNuyNw1",
        "outputId": "807d701c-c6ba-406b-a85c-a6b85f08af96"
      },
      "execution_count": null,
      "outputs": [
        {
          "output_type": "stream",
          "name": "stdout",
          "text": [
            "The cat sat on its mat, enjoying its nap. There were birds outside the window, chirping their sweet songs. The sun shone brightly, affecting the room's temperature. My friend and I aren't going to the store because it's raining.\n"
          ]
        }
      ]
    },
    {
      "cell_type": "code",
      "source": [
        "#transforming the  text for more advance reader\n",
        "prompt = f\"\"\"\n",
        "proofread and correct this review. Make it more compelling.\n",
        "Ensure it follows APA style guide and targets an advanced reader.\n",
        "Output in markdown format.\n",
        "Text: ```{text}```\n",
        "\"\"\"\n",
        "response = get_completion(prompt)\n",
        "display(Markdown(response))"
      ],
      "metadata": {
        "colab": {
          "base_uri": "https://localhost:8080/",
          "height": 64
        },
        "id": "uGbng3KSRVSk",
        "outputId": "7dae4305-8c53-47b4-bb22-c6d4d43eb460"
      },
      "execution_count": null,
      "outputs": [
        {
          "output_type": "display_data",
          "data": {
            "text/plain": [
              "<IPython.core.display.Markdown object>"
            ],
            "text/markdown": "The feline gracefully lounged on its cozy mat, relishing in a peaceful slumber. Beyond the window, a symphony of melodious bird songs filled the air. The radiant sun cast its warm glow, subtly altering the room's temperature. Unfortunately, due to the inclement weather, my friend and I have decided against venturing to the store."
          },
          "metadata": {}
        }
      ]
    },
    {
      "cell_type": "code",
      "source": [],
      "metadata": {
        "id": "jdbvijKfkZV-"
      },
      "execution_count": null,
      "outputs": []
    }
  ]
}