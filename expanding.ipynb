{
  "cells": [
    {
      "cell_type": "code",
      "source": [
        "pip install openai==0.28"
      ],
      "metadata": {
        "colab": {
          "base_uri": "https://localhost:8080/"
        },
        "id": "Pqi7Nfg-P0F3",
        "outputId": "5dfd4200-5dc5-4680-ac00-d0b3bc1ce0ac"
      },
      "id": "Pqi7Nfg-P0F3",
      "execution_count": null,
      "outputs": [
        {
          "output_type": "stream",
          "name": "stdout",
          "text": [
            "Collecting openai==0.28\n",
            "  Downloading openai-0.28.0-py3-none-any.whl (76 kB)\n",
            "\u001b[?25l     \u001b[90m━━━━━━━━━━━━━━━━━━━━━━━━━━━━━━━━━━━━━━━━\u001b[0m \u001b[32m0.0/76.5 kB\u001b[0m \u001b[31m?\u001b[0m eta \u001b[36m-:--:--\u001b[0m\r\u001b[2K     \u001b[91m━━━━━━━━━━━━━━━━━━━━━━━━━━━━━━━━━━━━━\u001b[0m\u001b[90m╺\u001b[0m\u001b[90m━━\u001b[0m \u001b[32m71.7/76.5 kB\u001b[0m \u001b[31m2.3 MB/s\u001b[0m eta \u001b[36m0:00:01\u001b[0m\r\u001b[2K     \u001b[90m━━━━━━━━━━━━━━━━━━━━━━━━━━━━━━━━━━━━━━━━\u001b[0m \u001b[32m76.5/76.5 kB\u001b[0m \u001b[31m1.9 MB/s\u001b[0m eta \u001b[36m0:00:00\u001b[0m\n",
            "\u001b[?25hRequirement already satisfied: requests>=2.20 in /usr/local/lib/python3.10/dist-packages (from openai==0.28) (2.31.0)\n",
            "Requirement already satisfied: tqdm in /usr/local/lib/python3.10/dist-packages (from openai==0.28) (4.66.1)\n",
            "Requirement already satisfied: aiohttp in /usr/local/lib/python3.10/dist-packages (from openai==0.28) (3.8.6)\n",
            "Requirement already satisfied: charset-normalizer<4,>=2 in /usr/local/lib/python3.10/dist-packages (from requests>=2.20->openai==0.28) (3.3.2)\n",
            "Requirement already satisfied: idna<4,>=2.5 in /usr/local/lib/python3.10/dist-packages (from requests>=2.20->openai==0.28) (3.4)\n",
            "Requirement already satisfied: urllib3<3,>=1.21.1 in /usr/local/lib/python3.10/dist-packages (from requests>=2.20->openai==0.28) (2.0.7)\n",
            "Requirement already satisfied: certifi>=2017.4.17 in /usr/local/lib/python3.10/dist-packages (from requests>=2.20->openai==0.28) (2023.7.22)\n",
            "Requirement already satisfied: attrs>=17.3.0 in /usr/local/lib/python3.10/dist-packages (from aiohttp->openai==0.28) (23.1.0)\n",
            "Requirement already satisfied: multidict<7.0,>=4.5 in /usr/local/lib/python3.10/dist-packages (from aiohttp->openai==0.28) (6.0.4)\n",
            "Requirement already satisfied: async-timeout<5.0,>=4.0.0a3 in /usr/local/lib/python3.10/dist-packages (from aiohttp->openai==0.28) (4.0.3)\n",
            "Requirement already satisfied: yarl<2.0,>=1.0 in /usr/local/lib/python3.10/dist-packages (from aiohttp->openai==0.28) (1.9.2)\n",
            "Requirement already satisfied: frozenlist>=1.1.1 in /usr/local/lib/python3.10/dist-packages (from aiohttp->openai==0.28) (1.4.0)\n",
            "Requirement already satisfied: aiosignal>=1.1.2 in /usr/local/lib/python3.10/dist-packages (from aiohttp->openai==0.28) (1.3.1)\n",
            "Installing collected packages: openai\n",
            "\u001b[31mERROR: pip's dependency resolver does not currently take into account all the packages that are installed. This behaviour is the source of the following dependency conflicts.\n",
            "llmx 0.0.15a0 requires cohere, which is not installed.\n",
            "llmx 0.0.15a0 requires tiktoken, which is not installed.\u001b[0m\u001b[31m\n",
            "\u001b[0mSuccessfully installed openai-0.28.0\n"
          ]
        }
      ]
    },
    {
      "cell_type": "markdown",
      "id": "8de529e8-3891-4f47-8585-65b92b80bbf7",
      "metadata": {
        "id": "8de529e8-3891-4f47-8585-65b92b80bbf7"
      },
      "source": [
        "# Expanding\n",
        "In this lesson, you will generate customer service emails that are tailored to each customer's review.\n",
        "\n",
        "## Setup\n",
        "In the below cell, please insert your own API keys as value for openai.api_key variable. You can create your own API keys at (https://platform.openai.com/api-keys)"
      ]
    },
    {
      "cell_type": "code",
      "execution_count": null,
      "id": "e23399a9",
      "metadata": {
        "id": "e23399a9"
      },
      "outputs": [],
      "source": [
        "import openai\n",
        "import os\n",
        "\n",
        "openai.api_key = 'sk-abcdefghijklmnopqrstuvwxyz0123456789'"
      ]
    },
    {
      "cell_type": "markdown",
      "id": "f8ceea77-990a-4c64-bb49-3ba65eb155d2",
      "metadata": {
        "id": "f8ceea77-990a-4c64-bb49-3ba65eb155d2"
      },
      "source": [
        "## Customize the automated reply to a customer email"
      ]
    },
    {
      "cell_type": "code",
      "execution_count": null,
      "id": "c30c4239",
      "metadata": {
        "id": "c30c4239"
      },
      "outputs": [],
      "source": [
        "# given the sentiment from the lesson on \"inferring\",\n",
        "# and the original customer message, customize the email\n",
        "sentiment = \"negative\"\n",
        "\n",
        "# review for a blender\n",
        "review = f\"\"\"\n",
        "In November, they offered the 13-piece system at a seasonal discount,\n",
        "priced at approximately $59, which was nearly half off. However, come\n",
        "the second week of December, the prices experienced a significant increase,\n",
        "ranging from $75 to $93 for the same system—some attribute this to potential\n",
        "price gouging. Additionally, the 10-piece system saw a price uptick of\n",
        "around $10 from its initial sale price of $35.\n",
        "While the appearance seems satisfactory, scrutiny reveals that the\n",
        "blade-locking mechanism at the base does not match the quality of earlier\n",
        "editions from a few years ago. Despite this, I intend to handle it with care,\n",
        "employing specific techniques such as crushing hard items like beans, ice, and\n",
        "rice in the blender before finely processing them. For smoothies, I plan to\n",
        "use the cross-cutting blade initially and switch to the flat blade for a\n",
        "finer consistency if needed.\n",
        "A useful tip for smoothie-making involves finely cutting and freezing fruits\n",
        "and vegetables beforehand, reducing the need for excessive ice during blending.\n",
        "After approximately a year of use, the motor began emitting unusual sounds.\n",
        "Despite reaching out to customer service, the warranty had already expired,\n",
        "necessitating the purchase of a replacement.\n",
        "It's worth noting that the overall quality of such products has declined,\n",
        "with the company only relying on brand recognition and customer loyalty for\n",
        "continued sales. Fortunately, the replacement arrived promptly within two days.\n",
        "\"\"\""
      ]
    },
    {
      "cell_type": "code",
      "execution_count": null,
      "id": "d5403f73",
      "metadata": {
        "colab": {
          "base_uri": "https://localhost:8080/"
        },
        "id": "d5403f73",
        "outputId": "9300df65-a74d-471d-89f6-2177b63eb3f2"
      },
      "outputs": [
        {
          "output_type": "stream",
          "name": "stdout",
          "text": [
            "\n",
            "Hello,\n",
            "\n",
            "Thank you for your review. We're sorry to hear that you had some issues with our product and that you didn't have a good experience with our customer service. We would love to help you out and make things right. Please reach out to our customer service team and we'll do our best to help you out.\n",
            "\n",
            "Sincerely,\n",
            "AI customer agent\n"
          ]
        }
      ],
      "source": [
        "prompt = f\"\"\"\n",
        "You are a customer service AI assistant.\n",
        "Your task is to send an email reply to a valued customer.\n",
        "Given the customer email delimited by ```,\n",
        "Generate a reply to thank the customer for their review.\n",
        "If the sentiment is positive or neutral, thank them for\n",
        "their review.\n",
        "If the sentiment is negative, apologize and suggest that\n",
        "they can reach out to customer service.\n",
        "Make sure to use specific details from the review.\n",
        "Write in a concise and professional tone.\n",
        "Sign the email as `AI customer agent`.\n",
        "Customer review: ```{review}```\n",
        "Review sentiment: {sentiment}\n",
        "\"\"\"\n",
        "\n",
        "response = openai.Completion.create(\n",
        "  engine=\"text-davinci-002\",\n",
        "  prompt=prompt,\n",
        "  temperature=0.4,\n",
        "  max_tokens=264\n",
        ")\n",
        "print(response['choices'][0]['text'])"
      ]
    },
    {
      "cell_type": "markdown",
      "id": "55605ee0-118c-4c46-a917-4981a43fcad3",
      "metadata": {
        "id": "55605ee0-118c-4c46-a917-4981a43fcad3"
      },
      "source": [
        "## Remind the model to use details from the customer's email"
      ]
    },
    {
      "cell_type": "code",
      "execution_count": null,
      "id": "1d5ea7c8",
      "metadata": {
        "colab": {
          "base_uri": "https://localhost:8080/"
        },
        "id": "1d5ea7c8",
        "outputId": "fc695e0c-493c-4f6d-df84-c188fa429cfc"
      },
      "outputs": [
        {
          "output_type": "stream",
          "name": "stdout",
          "text": [
            "\n",
            "Dear valued customer,\n",
            "\n",
            "Thank you for your email and for bringing these concerns to our attention. We're sorry to hear that you had such a negative experience with our product and that the quality has declined over time. We appreciate your feedback and we will do our best to improve our products in the future. If you have any further questions or concerns, please do not hesitate to contact our customer service team. Thank you for your loyalty and we hope you have a better experience with our products in the future.\n",
            "\n",
            "Sincerely,\n",
            "AI customer agent\n"
          ]
        }
      ],
      "source": [
        "prompt = f\"\"\"\n",
        "You are a customer service AI assistant.\n",
        "Your task is to send an email reply to a valued customer.\n",
        "Given the customer email delimited by ```,\n",
        "Generate a reply to thank the customer for their review.\n",
        "If the sentiment is positive or neutral, thank them for\n",
        "their review.\n",
        "If the sentiment is negative, apologize and suggest that\n",
        "they can reach out to customer service.\n",
        "Make sure to use specific details from the review.\n",
        "Write in a concise and professional tone.\n",
        "Sign the email as `AI customer agent`.\n",
        "Customer review: ```{review}```\n",
        "Review sentiment: {sentiment}\n",
        "\"\"\"\n",
        "\n",
        "response = openai.Completion.create(\n",
        "  engine=\"text-davinci-002\",\n",
        "  prompt=prompt,\n",
        "  temperature=0.5,\n",
        "  max_tokens=264\n",
        ")\n",
        "print(response['choices'][0]['text'])"
      ]
    }
  ],
  "metadata": {
    "kernelspec": {
      "display_name": "Python 3 (ipykernel)",
      "language": "python",
      "name": "python3"
    },
    "language_info": {
      "codemirror_mode": {
        "name": "ipython",
        "version": 3
      },
      "file_extension": ".py",
      "mimetype": "text/x-python",
      "name": "python",
      "nbconvert_exporter": "python",
      "pygments_lexer": "ipython3",
      "version": "3.10.9"
    },
    "colab": {
      "provenance": []
    }
  },
  "nbformat": 4,
  "nbformat_minor": 5
}