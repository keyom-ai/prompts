{
  "nbformat": 4,
  "nbformat_minor": 0,
  "metadata": {
    "colab": {
      "provenance": []
    },
    "kernelspec": {
      "name": "python3",
      "display_name": "Python 3"
    },
    "language_info": {
      "name": "python"
    }
  },
  "cells": [
    {
      "cell_type": "markdown",
      "source": [
        "# Iterative Prompt Development\n",
        "In this lesson, you'll iteratively analyze and refine your prompts to generate marketing copy from a product fact sheet.\n",
        "\n",
        "## Setup\n",
        "#### Load the API key and relevant Python libaries.\n",
        "\n",
        "In this course, we've provided some code that loads the OpenAI API key for you."
      ],
      "metadata": {
        "id": "iVl_mgLUB82r"
      }
    },
    {
      "cell_type": "code",
      "source": [
        "pip install openai==0.28"
      ],
      "metadata": {
        "colab": {
          "base_uri": "https://localhost:8080/"
        },
        "id": "-SOxBR1VB-kl",
        "outputId": "54c3aee7-5127-484a-cc9d-62a0bf24e834"
      },
      "execution_count": 1,
      "outputs": [
        {
          "output_type": "stream",
          "name": "stdout",
          "text": [
            "Collecting openai==0.28\n",
            "  Downloading openai-0.28.0-py3-none-any.whl (76 kB)\n",
            "\u001b[?25l     \u001b[90m━━━━━━━━━━━━━━━━━━━━━━━━━━━━━━━━━━━━━━━━\u001b[0m \u001b[32m0.0/76.5 kB\u001b[0m \u001b[31m?\u001b[0m eta \u001b[36m-:--:--\u001b[0m\r\u001b[2K     \u001b[90m━━━━━━━━━━━━━━━━━━━━━━━━━━━━━━━━━━━━━━━━\u001b[0m \u001b[32m76.5/76.5 kB\u001b[0m \u001b[31m2.6 MB/s\u001b[0m eta \u001b[36m0:00:00\u001b[0m\n",
            "\u001b[?25hRequirement already satisfied: requests>=2.20 in /usr/local/lib/python3.10/dist-packages (from openai==0.28) (2.31.0)\n",
            "Requirement already satisfied: tqdm in /usr/local/lib/python3.10/dist-packages (from openai==0.28) (4.66.1)\n",
            "Requirement already satisfied: aiohttp in /usr/local/lib/python3.10/dist-packages (from openai==0.28) (3.8.6)\n",
            "Requirement already satisfied: charset-normalizer<4,>=2 in /usr/local/lib/python3.10/dist-packages (from requests>=2.20->openai==0.28) (3.3.2)\n",
            "Requirement already satisfied: idna<4,>=2.5 in /usr/local/lib/python3.10/dist-packages (from requests>=2.20->openai==0.28) (3.4)\n",
            "Requirement already satisfied: urllib3<3,>=1.21.1 in /usr/local/lib/python3.10/dist-packages (from requests>=2.20->openai==0.28) (2.0.7)\n",
            "Requirement already satisfied: certifi>=2017.4.17 in /usr/local/lib/python3.10/dist-packages (from requests>=2.20->openai==0.28) (2023.7.22)\n",
            "Requirement already satisfied: attrs>=17.3.0 in /usr/local/lib/python3.10/dist-packages (from aiohttp->openai==0.28) (23.1.0)\n",
            "Requirement already satisfied: multidict<7.0,>=4.5 in /usr/local/lib/python3.10/dist-packages (from aiohttp->openai==0.28) (6.0.4)\n",
            "Requirement already satisfied: async-timeout<5.0,>=4.0.0a3 in /usr/local/lib/python3.10/dist-packages (from aiohttp->openai==0.28) (4.0.3)\n",
            "Requirement already satisfied: yarl<2.0,>=1.0 in /usr/local/lib/python3.10/dist-packages (from aiohttp->openai==0.28) (1.9.2)\n",
            "Requirement already satisfied: frozenlist>=1.1.1 in /usr/local/lib/python3.10/dist-packages (from aiohttp->openai==0.28) (1.4.0)\n",
            "Requirement already satisfied: aiosignal>=1.1.2 in /usr/local/lib/python3.10/dist-packages (from aiohttp->openai==0.28) (1.3.1)\n",
            "Installing collected packages: openai\n",
            "\u001b[31mERROR: pip's dependency resolver does not currently take into account all the packages that are installed. This behaviour is the source of the following dependency conflicts.\n",
            "llmx 0.0.15a0 requires cohere, which is not installed.\n",
            "llmx 0.0.15a0 requires tiktoken, which is not installed.\u001b[0m\u001b[31m\n",
            "\u001b[0mSuccessfully installed openai-0.28.0\n"
          ]
        }
      ]
    },
    {
      "cell_type": "markdown",
      "source": [
        "In the below cell, please insert your own API keys as value for `openai.api_key` variable. You can create your own API keys at (https://platform.openai.com/api-keys)"
      ],
      "metadata": {
        "id": "8L04GILomuiV"
      }
    },
    {
      "cell_type": "code",
      "source": [
        "import os\n",
        "import openai\n",
        "\n",
        "openai.api_key = 'sk-abcdefghijklmnopqrstuvwxyz0123456789'"
      ],
      "metadata": {
        "id": "DyGmLzEWCCBb"
      },
      "execution_count": 5,
      "outputs": []
    },
    {
      "cell_type": "markdown",
      "source": [
        "## Generate a marketing product description from a product fact sheet"
      ],
      "metadata": {
        "id": "U0PHl3Gam-ys"
      }
    },
    {
      "cell_type": "code",
      "source": [
        "sofa_set = \"\"\"\n",
        "**OVERVIEW:**\n",
        "- Introducing a sophisticated addition to our collection of contemporary living room furniture, our mid-century inspired sofa set effortlessly combines style and comfort.\n",
        "- Explore various configurations including sofas, loveseats, and ottomans to create your ideal seating arrangement.\n",
        "- Choose from a diverse range of upholstery options in fabric and leather to suit your taste and interior decor.\n",
        "- Available in an array of leg finishes, including walnut, oak, espresso, and chrome, allowing you to personalize your sofa set.\n",
        "- Designed for versatility, perfect for enhancing the ambiance of your living room, lounge, or modern office space.\n",
        "\n",
        "**CONSTRUCTION:**\n",
        "- Sturdy hardwood frame for durability and longevity.\n",
        "- High-quality foam cushioning provides optimal comfort for relaxation.\n",
        "- Modular design for easy assembly and customization.\n",
        "\n",
        "**DIMENSIONS:**\n",
        "- SOFA:\n",
        "  - WIDTH 210 CM | 82.67”\n",
        "  - DEPTH 90 CM | 35.43”\n",
        "  - HEIGHT 75 CM | 29.52”\n",
        "  - SEAT HEIGHT 45 CM | 17.71”\n",
        "  - SEAT DEPTH 55 CM | 21.65”\n",
        "- LOVESEAT:\n",
        "  - WIDTH 150 CM | 59.05”\n",
        "  - DEPTH 90 CM | 35.43”\n",
        "  - HEIGHT 75 CM | 29.52”\n",
        "  - SEAT HEIGHT 45 CM | 17.71”\n",
        "  - SEAT DEPTH 55 CM | 21.65”\n",
        "- OTTOMAN:\n",
        "  - WIDTH 70 CM | 27.55”\n",
        "  - DEPTH 70 CM | 27.55”\n",
        "  - HEIGHT 40 CM | 15.74”\n",
        "\n",
        "**OPTIONS:**\n",
        "- Choose between standard or tufted upholstery styles.\n",
        "- Select from a range of leg styles, including tapered wood or sleek metal.\n",
        "- Customize the sofa set with additional throw pillows for added comfort and style.\n",
        "\n",
        "**MATERIALS:**\n",
        "- Upholstery Options: Premium fabric or genuine leather.\n",
        "- Frame: Hardwood for durability and stability.\n",
        "- Cushioning: High-density foam for lasting comfort.\n",
        "\n",
        "**COUNTRY OF ORIGIN:**\n",
        "- Crafted with precision and care in Italy.\n",
        "\"\"\""
      ],
      "metadata": {
        "id": "ANBDFt_3mxLT"
      },
      "execution_count": 16,
      "outputs": []
    },
    {
      "cell_type": "code",
      "source": [
        "prompt = f\"\"\"\n",
        "Your task is to help a marketing team create a\n",
        "description for a retail website of a product based\n",
        "on a technical fact sheet.\n",
        "\n",
        "Write a product description based on the information\n",
        "provided in the technical specifications delimited by\n",
        "triple backticks.\n",
        "\n",
        "Technical specifications: ```{sofa_set}```\n",
        "\"\"\"\n",
        "response = openai.Completion.create(\n",
        "  engine=\"text-davinci-002\",\n",
        "  prompt=prompt,\n",
        "  temperature=0.4,\n",
        "  max_tokens=264\n",
        ")\n",
        "print(response)\n"
      ],
      "metadata": {
        "colab": {
          "base_uri": "https://localhost:8080/"
        },
        "id": "zDp8BKJem9Hg",
        "outputId": "9e34aeb4-18d1-4a9f-b4bb-18e8b495315d"
      },
      "execution_count": 17,
      "outputs": [
        {
          "output_type": "stream",
          "name": "stdout",
          "text": [
            "{\n",
            "  \"warning\": \"This model version is deprecated. Migrate before January 4, 2024 to avoid disruption of service. Learn more https://platform.openai.com/docs/deprecations\",\n",
            "  \"id\": \"cmpl-8OATxYvi6mddSGaky3uUiC7dEeGLr\",\n",
            "  \"object\": \"text_completion\",\n",
            "  \"created\": 1700770857,\n",
            "  \"model\": \"text-davinci-002\",\n",
            "  \"choices\": [\n",
            "    {\n",
            "      \"text\": \"\\nIntroducing the perfect addition to any contemporary living room, our mid-century inspired sofa set effortlessly combines style and comfort. Explore various configurations including sofas, loveseats, and ottomans to create your ideal seating arrangement. Choose from a diverse range of upholstery options in fabric and leather to suit your taste and interior decor. Available in an array of leg finishes, including walnut, oak, espresso, and chrome, allowing you to personalize your sofa set. Designed for versatility, perfect for enhancing the ambiance of your living room, lounge, or modern office space.\",\n",
            "      \"index\": 0,\n",
            "      \"logprobs\": null,\n",
            "      \"finish_reason\": \"stop\"\n",
            "    }\n",
            "  ],\n",
            "  \"usage\": {\n",
            "    \"prompt_tokens\": 596,\n",
            "    \"completion_tokens\": 121,\n",
            "    \"total_tokens\": 717\n",
            "  }\n",
            "}\n"
          ]
        }
      ]
    },
    {
      "cell_type": "markdown",
      "source": [
        "## Issue 1: The text is too long\n",
        "- Limit the number of words/sentences/characters."
      ],
      "metadata": {
        "id": "bMxz3xNRoSe4"
      }
    },
    {
      "cell_type": "code",
      "source": [
        "prompt = f\"\"\"\n",
        "Your task is to help a marketing team create a\n",
        "description for a retail website of a product based\n",
        "on a technical fact sheet.\n",
        "\n",
        "Write a product description based on the information\n",
        "provided in the technical specifications delimited by\n",
        "triple backticks.\n",
        "\n",
        "Use at most 50 words.\n",
        "\n",
        "Technical specifications: ```{sofa_set}```\n",
        "\"\"\"\n",
        "\n",
        "response = openai.Completion.create(\n",
        "  engine=\"text-davinci-002\",\n",
        "  prompt=prompt,\n",
        "  temperature=0.4,\n",
        "  max_tokens=264\n",
        ")\n",
        "print(response)\n"
      ],
      "metadata": {
        "colab": {
          "base_uri": "https://localhost:8080/"
        },
        "id": "rVJS27BdoTJw",
        "outputId": "65246fd5-0bd6-4651-cfa9-d82ab29bee8b"
      },
      "execution_count": 18,
      "outputs": [
        {
          "output_type": "stream",
          "name": "stdout",
          "text": [
            "{\n",
            "  \"warning\": \"This model version is deprecated. Migrate before January 4, 2024 to avoid disruption of service. Learn more https://platform.openai.com/docs/deprecations\",\n",
            "  \"id\": \"cmpl-8OAU2HPiNHhQVkDE7vZZmZcOGVulA\",\n",
            "  \"object\": \"text_completion\",\n",
            "  \"created\": 1700770862,\n",
            "  \"model\": \"text-davinci-002\",\n",
            "  \"choices\": [\n",
            "    {\n",
            "      \"text\": \"\\nIntroducing our mid-century inspired sofa set, the perfect addition to any contemporary living room. Sturdy and comfortable, this set is available in a range of upholstery options and leg styles to suit your taste. Made with premium materials in Italy.\",\n",
            "      \"index\": 0,\n",
            "      \"logprobs\": null,\n",
            "      \"finish_reason\": \"stop\"\n",
            "    }\n",
            "  ],\n",
            "  \"usage\": {\n",
            "    \"prompt_tokens\": 604,\n",
            "    \"completion_tokens\": 52,\n",
            "    \"total_tokens\": 656\n",
            "  }\n",
            "}\n"
          ]
        }
      ]
    },
    {
      "cell_type": "markdown",
      "source": [
        "## Issue 2. Text focuses on the wrong details\n",
        "- Ask it to focus on the aspects that are relevant to the intended audience."
      ],
      "metadata": {
        "id": "fedQd7lvogsX"
      }
    },
    {
      "cell_type": "code",
      "source": [
        "prompt = f\"\"\"\n",
        "Your task is to help a marketing team create a\n",
        "description for a retail website of a product based\n",
        "on a technical fact sheet.\n",
        "\n",
        "Write a product description based on the information\n",
        "provided in the technical specifications delimited by\n",
        "triple backticks.\n",
        "\n",
        "The description is intended for furniture retailers,\n",
        "so it should be technical in nature and focus on the\n",
        "materials the product is constructed from.\n",
        "\n",
        "Use at most 50 words.\n",
        "\n",
        "Technical specifications: ```{sofa_set}```\n",
        "\"\"\"\n",
        "\n",
        "response = openai.Completion.create(\n",
        "  engine=\"text-davinci-002\",\n",
        "  prompt=prompt,\n",
        "  temperature=0.4,\n",
        "  max_tokens=264\n",
        ")\n",
        "print(response)"
      ],
      "metadata": {
        "colab": {
          "base_uri": "https://localhost:8080/"
        },
        "id": "0bMPc0CPoYgo",
        "outputId": "07d98acb-17b9-4ecf-d3b7-c8f60b500eeb"
      },
      "execution_count": 19,
      "outputs": [
        {
          "output_type": "stream",
          "name": "stdout",
          "text": [
            "{\n",
            "  \"warning\": \"This model version is deprecated. Migrate before January 4, 2024 to avoid disruption of service. Learn more https://platform.openai.com/docs/deprecations\",\n",
            "  \"id\": \"cmpl-8OAU6bThT7OIh0HQNRKz3CdW7Zzze\",\n",
            "  \"object\": \"text_completion\",\n",
            "  \"created\": 1700770866,\n",
            "  \"model\": \"text-davinci-002\",\n",
            "  \"choices\": [\n",
            "    {\n",
            "      \"text\": \"\\nIntroducing a new sofa set to our collection of contemporary living room furniture. This mid-century inspired set is designed for comfort and style. It includes a sofa, loveseat, and ottoman, and is available in a range of upholstery options, leg styles, and finishes.\",\n",
            "      \"index\": 0,\n",
            "      \"logprobs\": null,\n",
            "      \"finish_reason\": \"stop\"\n",
            "    }\n",
            "  ],\n",
            "  \"usage\": {\n",
            "    \"prompt_tokens\": 637,\n",
            "    \"completion_tokens\": 61,\n",
            "    \"total_tokens\": 698\n",
            "  }\n",
            "}\n"
          ]
        }
      ]
    },
    {
      "cell_type": "code",
      "source": [
        "prompt = f\"\"\"\n",
        "Your task is to help a marketing team create a\n",
        "description for a retail website of a product based\n",
        "on a technical fact sheet.\n",
        "\n",
        "Write a product description based on the information\n",
        "provided in the technical specifications delimited by\n",
        "triple backticks.\n",
        "\n",
        "The description is intended for furniture retailers,\n",
        "so should be technical in nature and focus on the\n",
        "materials the product is constructed from.\n",
        "\n",
        "At the end of the description, include every 7-character\n",
        "Product ID in the technical specification.\n",
        "\n",
        "Use at most 50 words.\n",
        "\n",
        "Technical specifications: ```{sofa_set}```\n",
        "\"\"\"\n",
        "\n",
        "response = openai.Completion.create(\n",
        "  engine=\"text-davinci-002\",\n",
        "  prompt=prompt,\n",
        "  temperature=0.4,\n",
        "  max_tokens=264\n",
        ")\n",
        "print(response)"
      ],
      "metadata": {
        "colab": {
          "base_uri": "https://localhost:8080/"
        },
        "id": "HXRqrEuIol_1",
        "outputId": "5f70b19b-d837-4699-8d73-eb43d1a164e8"
      },
      "execution_count": 20,
      "outputs": [
        {
          "output_type": "stream",
          "name": "stdout",
          "text": [
            "{\n",
            "  \"warning\": \"This model version is deprecated. Migrate before January 4, 2024 to avoid disruption of service. Learn more https://platform.openai.com/docs/deprecations\",\n",
            "  \"id\": \"cmpl-8OAUCdXh0J2VxkifvMBiNTggW2lIa\",\n",
            "  \"object\": \"text_completion\",\n",
            "  \"created\": 1700770872,\n",
            "  \"model\": \"text-davinci-002\",\n",
            "  \"choices\": [\n",
            "    {\n",
            "      \"text\": \"\\nOur mid-century inspired sofa set is the perfect addition to your contemporary living room. With a variety of configurations including sofas, loveseats, and ottomans, you can create your ideal seating arrangement. Upholstered in premium fabric or genuine leather, this sofa set is designed for comfort and style. The hardwood frame and high-density foam cushioning provide durability and longevity. Choose from a range of leg styles and finishes to customize your sofa set. This sofa set is crafted with precision and care in Italy.\",\n",
            "      \"index\": 0,\n",
            "      \"logprobs\": null,\n",
            "      \"finish_reason\": \"stop\"\n",
            "    }\n",
            "  ],\n",
            "  \"usage\": {\n",
            "    \"prompt_tokens\": 659,\n",
            "    \"completion_tokens\": 111,\n",
            "    \"total_tokens\": 770\n",
            "  }\n",
            "}\n"
          ]
        }
      ]
    },
    {
      "cell_type": "markdown",
      "source": [
        "## Issue 3. Description needs a table of dimensions\n",
        "- Ask it to extract information and organize it in a table."
      ],
      "metadata": {
        "id": "Be4gfyjMo4Yc"
      }
    },
    {
      "cell_type": "code",
      "source": [
        "prompt = f\"\"\"\n",
        "Your task is to help a marketing team create a\n",
        "description for a retail website of a product based\n",
        "on a technical fact sheet.\n",
        "\n",
        "Write a product description based on the information\n",
        "provided in the technical specifications delimited by\n",
        "triple backticks.\n",
        "\n",
        "The description is intended for furniture retailers,\n",
        "so should be technical in nature and focus on the\n",
        "materials the product is constructed from.\n",
        "\n",
        "At the end of the description, include every 7-character\n",
        "Product ID in the technical specification.\n",
        "\n",
        "After the description, include a table that gives the\n",
        "product's dimensions. The table should have two columns.\n",
        "In the first column include the name of the dimension.\n",
        "In the second column include the measurements in inches only.\n",
        "\n",
        "Give the table the title 'Product Dimensions'.\n",
        "\n",
        "Format everything as HTML that can be used in a website.\n",
        "Place the description in a <div> element.\n",
        "\n",
        "Technical specifications: ```{sofa_set}```\n",
        "\"\"\"\n",
        "\n",
        "\n",
        "response = openai.Completion.create(\n",
        "  engine=\"text-davinci-002\",\n",
        "  prompt=prompt,\n",
        "  temperature=0.4,\n",
        "  max_tokens=864\n",
        ")\n",
        "print(response)"
      ],
      "metadata": {
        "colab": {
          "base_uri": "https://localhost:8080/"
        },
        "id": "uvVimuj7osXX",
        "outputId": "bcf5bc80-c74b-4244-cc72-d04e510e6298"
      },
      "execution_count": 21,
      "outputs": [
        {
          "output_type": "stream",
          "name": "stdout",
          "text": [
            "{\n",
            "  \"warning\": \"This model version is deprecated. Migrate before January 4, 2024 to avoid disruption of service. Learn more https://platform.openai.com/docs/deprecations\",\n",
            "  \"id\": \"cmpl-8OAUMVUaNmCDs7VhiZy16TsucjNLj\",\n",
            "  \"object\": \"text_completion\",\n",
            "  \"created\": 1700770882,\n",
            "  \"model\": \"text-davinci-002\",\n",
            "  \"choices\": [\n",
            "    {\n",
            "      \"text\": \"\\nProduct ID: 7-seater-sofa-set\\n\\nProduct description:\\n\\nIntroducing a sophisticated addition to our collection of contemporary living room furniture, our mid-century inspired 7-seater sofa set effortlessly combines style and comfort. Explore various configurations including sofas, loveseats, and ottomans to create your ideal seating arrangement. Choose from a diverse range of upholstery options in fabric and leather to suit your taste and interior decor. Available in an array of leg finishes, including walnut, oak, espresso, and chrome, allowing you to personalize your sofa set. Designed for versatility, perfect for enhancing the ambiance of your living room, lounge, or modern office space.\\n\\nProduct Dimensions:\\n\\n| Dimension        | Measurement (in inches) |\\n| ---------------- | ----------------------- |\\n| Width            | 82.67                    |\\n| Depth            | 35.43                    |\\n| Height           | 29.52                    |\\n| Seat Height      | 17.71                    |\\n| Seat Depth       | 21.65                    |\",\n",
            "      \"index\": 0,\n",
            "      \"logprobs\": null,\n",
            "      \"finish_reason\": \"stop\"\n",
            "    }\n",
            "  ],\n",
            "  \"usage\": {\n",
            "    \"prompt_tokens\": 738,\n",
            "    \"completion_tokens\": 224,\n",
            "    \"total_tokens\": 962\n",
            "  }\n",
            "}\n"
          ]
        }
      ]
    },
    {
      "cell_type": "code",
      "source": [],
      "metadata": {
        "id": "3h9iCqd30yWB"
      },
      "execution_count": null,
      "outputs": []
    }
  ]
}