{
  "nbformat": 4,
  "nbformat_minor": 0,
  "metadata": {
    "colab": {
      "provenance": []
    },
    "kernelspec": {
      "name": "python3",
      "display_name": "Python 3"
    },
    "language_info": {
      "name": "python"
    }
  },
  "cells": [
    {
      "cell_type": "code",
      "execution_count": 1,
      "metadata": {
        "colab": {
          "base_uri": "https://localhost:8080/"
        },
        "id": "R_0LS9XBDTbh",
        "outputId": "ca8f4754-f4bd-4153-ec06-81cf1031f394"
      },
      "outputs": [
        {
          "output_type": "stream",
          "name": "stdout",
          "text": [
            "Collecting openai==0.28\n",
            "  Downloading openai-0.28.0-py3-none-any.whl (76 kB)\n",
            "\u001b[?25l     \u001b[90m━━━━━━━━━━━━━━━━━━━━━━━━━━━━━━━━━━━━━━━━\u001b[0m \u001b[32m0.0/76.5 kB\u001b[0m \u001b[31m?\u001b[0m eta \u001b[36m-:--:--\u001b[0m\r\u001b[2K     \u001b[91m━━━━━━━━━━━━━━━━━━━━━━━━━━━━━━━━━━━━━\u001b[0m\u001b[90m╺\u001b[0m\u001b[90m━━\u001b[0m \u001b[32m71.7/76.5 kB\u001b[0m \u001b[31m2.4 MB/s\u001b[0m eta \u001b[36m0:00:01\u001b[0m\r\u001b[2K     \u001b[90m━━━━━━━━━━━━━━━━━━━━━━━━━━━━━━━━━━━━━━━━\u001b[0m \u001b[32m76.5/76.5 kB\u001b[0m \u001b[31m1.9 MB/s\u001b[0m eta \u001b[36m0:00:00\u001b[0m\n",
            "\u001b[?25hRequirement already satisfied: requests>=2.20 in /usr/local/lib/python3.10/dist-packages (from openai==0.28) (2.31.0)\n",
            "Requirement already satisfied: tqdm in /usr/local/lib/python3.10/dist-packages (from openai==0.28) (4.66.1)\n",
            "Requirement already satisfied: aiohttp in /usr/local/lib/python3.10/dist-packages (from openai==0.28) (3.8.6)\n",
            "Requirement already satisfied: charset-normalizer<4,>=2 in /usr/local/lib/python3.10/dist-packages (from requests>=2.20->openai==0.28) (3.3.2)\n",
            "Requirement already satisfied: idna<4,>=2.5 in /usr/local/lib/python3.10/dist-packages (from requests>=2.20->openai==0.28) (3.4)\n",
            "Requirement already satisfied: urllib3<3,>=1.21.1 in /usr/local/lib/python3.10/dist-packages (from requests>=2.20->openai==0.28) (2.0.7)\n",
            "Requirement already satisfied: certifi>=2017.4.17 in /usr/local/lib/python3.10/dist-packages (from requests>=2.20->openai==0.28) (2023.7.22)\n",
            "Requirement already satisfied: attrs>=17.3.0 in /usr/local/lib/python3.10/dist-packages (from aiohttp->openai==0.28) (23.1.0)\n",
            "Requirement already satisfied: multidict<7.0,>=4.5 in /usr/local/lib/python3.10/dist-packages (from aiohttp->openai==0.28) (6.0.4)\n",
            "Requirement already satisfied: async-timeout<5.0,>=4.0.0a3 in /usr/local/lib/python3.10/dist-packages (from aiohttp->openai==0.28) (4.0.3)\n",
            "Requirement already satisfied: yarl<2.0,>=1.0 in /usr/local/lib/python3.10/dist-packages (from aiohttp->openai==0.28) (1.9.2)\n",
            "Requirement already satisfied: frozenlist>=1.1.1 in /usr/local/lib/python3.10/dist-packages (from aiohttp->openai==0.28) (1.4.0)\n",
            "Requirement already satisfied: aiosignal>=1.1.2 in /usr/local/lib/python3.10/dist-packages (from aiohttp->openai==0.28) (1.3.1)\n",
            "Installing collected packages: openai\n",
            "\u001b[31mERROR: pip's dependency resolver does not currently take into account all the packages that are installed. This behaviour is the source of the following dependency conflicts.\n",
            "llmx 0.0.15a0 requires cohere, which is not installed.\n",
            "llmx 0.0.15a0 requires tiktoken, which is not installed.\u001b[0m\u001b[31m\n",
            "\u001b[0mSuccessfully installed openai-0.28.0\n"
          ]
        }
      ],
      "source": [
        "pip install openai==0.28"
      ]
    },
    {
      "cell_type": "markdown",
      "source": [
        "# Summarizing\n",
        "In this lesson, you will summarize text with a focus on specific topics.\n",
        "\n",
        "## Setup"
      ],
      "metadata": {
        "id": "_RqYuu3CEv5O"
      }
    },
    {
      "cell_type": "code",
      "source": [
        "import os\n",
        "import openai\n",
        "\n",
        "openai.api_key = 'sk-abcdefghijklmnopqrstuvwxyz0123456789'"
      ],
      "metadata": {
        "id": "DtQaibskDyYN"
      },
      "execution_count": 20,
      "outputs": []
    },
    {
      "cell_type": "markdown",
      "source": [
        "## Text to summarize"
      ],
      "metadata": {
        "id": "4tyQZKe6E0ph"
      }
    },
    {
      "cell_type": "code",
      "source": [
        "prod_review = \"\"\"\n",
        "Purchased this cricket kit for my son's birthday,\n",
        "and he absolutely adores it! He takes it to every\n",
        "practice session and enjoys using it during matches.\n",
        "The kit includes all the essential gear, and the quality is impressive.\n",
        "The bat has a sturdy build, and the cricket ball has a good grip.\n",
        "The bag is spacious enough to carry everything, and the overall design\n",
        "is vibrant and attractive. However, I felt the size of the gloves could be\n",
        "a bit larger for the price. Despite that, it arrived a day earlier than\n",
        "expected, giving us some extra time to practice together before his big day.\n",
        "Overall, a great addition to his cricket gear collection!\n",
        "\"\"\""
      ],
      "metadata": {
        "id": "Slpdu5E_EYKG"
      },
      "execution_count": 13,
      "outputs": []
    },
    {
      "cell_type": "markdown",
      "source": [
        "## Summarize with a word/sentence/character limit"
      ],
      "metadata": {
        "id": "DT-nuBMFE4Uk"
      }
    },
    {
      "cell_type": "code",
      "source": [
        "prompt = f\"\"\"\n",
        "Your task is to generate a short summary of a product \\\n",
        "review from an ecommerce site.\n",
        "\n",
        "Summarize the review below, delimited by triple\n",
        "backticks, in at most 30 words.\n",
        "\n",
        "Review: ```{prod_review}```\n",
        "\"\"\"\n",
        "\n",
        "\n",
        "response = openai.Completion.create(\n",
        "  engine=\"text-davinci-002\",\n",
        "  prompt=prompt,\n",
        "  temperature=0.4,\n",
        "  max_tokens=64\n",
        ")\n",
        "print(response)"
      ],
      "metadata": {
        "colab": {
          "base_uri": "https://localhost:8080/"
        },
        "id": "yG14M3WjEg4S",
        "outputId": "2ca5dfbc-e967-45de-be72-f5d6b4905b8c"
      },
      "execution_count": 14,
      "outputs": [
        {
          "output_type": "stream",
          "name": "stdout",
          "text": [
            "{\n",
            "  \"warning\": \"This model version is deprecated. Migrate before January 4, 2024 to avoid disruption of service. Learn more https://platform.openai.com/docs/deprecations\",\n",
            "  \"id\": \"cmpl-8OPXZjCgRHUnzPYkBkOJlWIo6nB8V\",\n",
            "  \"object\": \"text_completion\",\n",
            "  \"created\": 1700828741,\n",
            "  \"model\": \"text-davinci-002\",\n",
            "  \"choices\": [\n",
            "    {\n",
            "      \"text\": \"\\nThis cricket kit is a great gift for any cricket lover! It includes all the essential gear, and the quality is impressive. The bat has a sturdy build, and the cricket ball has a good grip. The bag is spacious enough to carry everything, and the overall design is vibrant and attractive.\",\n",
            "      \"index\": 0,\n",
            "      \"logprobs\": null,\n",
            "      \"finish_reason\": \"stop\"\n",
            "    }\n",
            "  ],\n",
            "  \"usage\": {\n",
            "    \"prompt_tokens\": 209,\n",
            "    \"completion_tokens\": 60,\n",
            "    \"total_tokens\": 269\n",
            "  }\n",
            "}\n"
          ]
        }
      ]
    },
    {
      "cell_type": "markdown",
      "source": [
        "## Summarize with a focus on shipping and delivery"
      ],
      "metadata": {
        "id": "WI2_vWYSFAO5"
      }
    },
    {
      "cell_type": "code",
      "source": [
        "prompt = f\"\"\"\n",
        "Your task is to generate a short summary of a product \\\n",
        "review from an ecommerce site to give feedback to the \\\n",
        "Shipping deparmtment.\n",
        "\n",
        "Summarize the review below, delimited by triple\n",
        "backticks, in at most 30 words, and focusing on any aspects \\\n",
        "that mention shipping and delivery of the product.\n",
        "\n",
        "Review: ```{prod_review}```\n",
        "\"\"\"\n",
        "\n",
        "response = openai.Completion.create(\n",
        "  engine=\"text-davinci-002\",\n",
        "  prompt=prompt,\n",
        "  temperature=0.4,\n",
        "  max_tokens=64\n",
        ")\n",
        "print(response)"
      ],
      "metadata": {
        "colab": {
          "base_uri": "https://localhost:8080/"
        },
        "id": "0sOxZrMTEoaJ",
        "outputId": "7da34608-36bf-4022-8c2e-5490ea28d494"
      },
      "execution_count": 15,
      "outputs": [
        {
          "output_type": "stream",
          "name": "stdout",
          "text": [
            "{\n",
            "  \"warning\": \"This model version is deprecated. Migrate before January 4, 2024 to avoid disruption of service. Learn more https://platform.openai.com/docs/deprecations\",\n",
            "  \"id\": \"cmpl-8OPXgd03BGVSOoriDMEicNtmvKfIl\",\n",
            "  \"object\": \"text_completion\",\n",
            "  \"created\": 1700828748,\n",
            "  \"model\": \"text-davinci-002\",\n",
            "  \"choices\": [\n",
            "    {\n",
            "      \"text\": \"\\nThe reviewer liked the product and found it to be high quality, but felt that the gloves could be a bit larger. They were happy with the shipping, as the product arrived a day earlier than expected.\",\n",
            "      \"index\": 0,\n",
            "      \"logprobs\": null,\n",
            "      \"finish_reason\": \"stop\"\n",
            "    }\n",
            "  ],\n",
            "  \"usage\": {\n",
            "    \"prompt_tokens\": 233,\n",
            "    \"completion_tokens\": 42,\n",
            "    \"total_tokens\": 275\n",
            "  }\n",
            "}\n"
          ]
        }
      ]
    },
    {
      "cell_type": "markdown",
      "source": [
        "## Summarize with a focus on price and value"
      ],
      "metadata": {
        "id": "ATjG8SiEFIsc"
      }
    },
    {
      "cell_type": "code",
      "source": [
        "prompt = f\"\"\"\n",
        "Your task is to generate a short summary of a product \\\n",
        "review from an ecommerce site to give feedback to the \\\n",
        "pricing deparmtment, responsible for determining the \\\n",
        "price of the product.\n",
        "\n",
        "Summarize the review below, delimited by triple\n",
        "backticks, in at most 30 words, and focusing on any aspects \\\n",
        "that are relevant to the price and perceived value.\n",
        "\n",
        "Review: ```{prod_review}```\n",
        "\"\"\"\n",
        "\n",
        "response = openai.Completion.create(\n",
        "  engine=\"text-davinci-002\",\n",
        "  prompt=prompt,\n",
        "  temperature=0.4,\n",
        "  max_tokens=64\n",
        ")\n",
        "print(response)\n"
      ],
      "metadata": {
        "colab": {
          "base_uri": "https://localhost:8080/"
        },
        "id": "YYCdm2pYFFmO",
        "outputId": "f5476166-073c-4e77-e15c-70f38a78b6d7"
      },
      "execution_count": 16,
      "outputs": [
        {
          "output_type": "stream",
          "name": "stdout",
          "text": [
            "{\n",
            "  \"warning\": \"This model version is deprecated. Migrate before January 4, 2024 to avoid disruption of service. Learn more https://platform.openai.com/docs/deprecations\",\n",
            "  \"id\": \"cmpl-8OPXjakKZ43QgZH62skUNpsMvBNLV\",\n",
            "  \"object\": \"text_completion\",\n",
            "  \"created\": 1700828751,\n",
            "  \"model\": \"text-davinci-002\",\n",
            "  \"choices\": [\n",
            "    {\n",
            "      \"text\": \"\\nThe reviewer thought the quality and design of the product was good, but felt that the gloves could be a bit larger for the price.\",\n",
            "      \"index\": 0,\n",
            "      \"logprobs\": null,\n",
            "      \"finish_reason\": \"stop\"\n",
            "    }\n",
            "  ],\n",
            "  \"usage\": {\n",
            "    \"prompt_tokens\": 243,\n",
            "    \"completion_tokens\": 28,\n",
            "    \"total_tokens\": 271\n",
            "  }\n",
            "}\n"
          ]
        }
      ]
    },
    {
      "cell_type": "markdown",
      "source": [
        "#### Comment\n",
        "- Summaries include topics that are not related to the topic of focus."
      ],
      "metadata": {
        "id": "ne0Gm-zYFN5V"
      }
    },
    {
      "cell_type": "markdown",
      "source": [
        "## Try \"extract\" instead of \"summarize\""
      ],
      "metadata": {
        "id": "Y5mymiNyFRwK"
      }
    },
    {
      "cell_type": "code",
      "source": [
        "prompt = f\"\"\"\n",
        "Your task is to extract relevant information from \\\n",
        "a product review from an ecommerce site to give \\\n",
        "feedback to the Shipping department.\n",
        "\n",
        "From the review below, delimited by triple quotes \\\n",
        "extract the information relevant to shipping and \\\n",
        "delivery. Limit to 30 words.\n",
        "\n",
        "Review: ```{prod_review}```\n",
        "\"\"\"\n",
        "\n",
        "response = openai.Completion.create(\n",
        "  engine=\"text-davinci-002\",\n",
        "  prompt=prompt,\n",
        "  temperature=0.4,\n",
        "  max_tokens=64\n",
        ")\n",
        "print(response)"
      ],
      "metadata": {
        "colab": {
          "base_uri": "https://localhost:8080/"
        },
        "id": "9P602HVqFM0S",
        "outputId": "54c139e1-3e80-4f1c-f067-158734f8aa06"
      },
      "execution_count": 17,
      "outputs": [
        {
          "output_type": "stream",
          "name": "stdout",
          "text": [
            "{\n",
            "  \"warning\": \"This model version is deprecated. Migrate before January 4, 2024 to avoid disruption of service. Learn more https://platform.openai.com/docs/deprecations\",\n",
            "  \"id\": \"cmpl-8OPXnA7xDcRAnotWa057sMCwkb0Bi\",\n",
            "  \"object\": \"text_completion\",\n",
            "  \"created\": 1700828755,\n",
            "  \"model\": \"text-davinci-002\",\n",
            "  \"choices\": [\n",
            "    {\n",
            "      \"text\": \"\\nThe review mentions that the product arrived a day earlier than expected, which is positive feedback \\\\ \\nfor the Shipping department.\",\n",
            "      \"index\": 0,\n",
            "      \"logprobs\": null,\n",
            "      \"finish_reason\": \"stop\"\n",
            "    }\n",
            "  ],\n",
            "  \"usage\": {\n",
            "    \"prompt_tokens\": 223,\n",
            "    \"completion_tokens\": 26,\n",
            "    \"total_tokens\": 249\n",
            "  }\n",
            "}\n"
          ]
        }
      ]
    },
    {
      "cell_type": "markdown",
      "source": [
        "## Summarize multiple product reviews"
      ],
      "metadata": {
        "id": "xVOg-Q8pFZsm"
      }
    },
    {
      "cell_type": "code",
      "source": [
        "\n",
        "review_1 = prod_review\n",
        "\n",
        "# review for a dining table\n",
        "review_2 = \"\"\"\n",
        "In search of the perfect dining table for my home, I stumbled upon\n",
        "this gem that not only met my aesthetic preferences but also came\n",
        "with some thoughtful features. Ordering was a breeze, and to my\n",
        "delight, it arrived at my doorstep in just two days.\n",
        "Had a missing piece, but their customer service was on it, sent\n",
        "the part in no time. Easy to put together, and now I've got a solid table.\n",
        "Assembly itself turned out to be a stress-free experience,\n",
        "and the end result was a sturdy and stylish dining table that\n",
        "perfectly complemented my space. It's apparent that this company\n",
        "values both the quality of their products and the satisfaction of\n",
        "their customers. Kudos to a company that goes the extra mile to\n",
        "ensure a seamless experience from purchase to assembly!\n",
        "\"\"\"\n",
        "\n",
        "# review for a dishwasher\n",
        "review_3 = \"\"\"\n",
        "My neighbor suggested this dishwasher, and it's been holding\n",
        "up well. The cleaning power is impressive – handles tough stains\n",
        "without any issues. I've been using it daily for the past\n",
        "month, and it hasn't let me down. The design is sleek, and\n",
        "the controls are straightforward. One drawback is that it's\n",
        "a bit noisy during the wash cycle, but it's not a dealbreaker.\n",
        "Overall, a solid dishwasher, especially if you can snag it for\n",
        "around $300. Replacement parts are a bit pricey, but generic\n",
        "options are available for a more reasonable cost. It gives me\n",
        "that fresh-out-of-the-dentist-chair feeling for my dishes!\n",
        "\"\"\"\n",
        "\n",
        "# review for a blender\n",
        "review_4 = \"\"\"\n",
        "Bought this blender during the November sale for $49, a steal\n",
        "for the 17-piece set. However, prices shot up in December, which\n",
        "felt like a letdown. The base doesn't seem as sturdy as older models,\n",
        "but I handle it with care. I use it for various tasks, like crushing\n",
        "hard items first before blending. A tip for smoothies: freeze your\n",
        "fruits and veggies to reduce the need for lots of ice. After a year,\n",
        "the motor got noisy, and since the warranty was up, I had to buy a new\n",
        "one. The quality isn't what it used to be, but it arrived fast in two days.\n",
        "\"\"\"\n",
        "\n",
        "reviews = [review_1, review_2, review_3, review_4]\n",
        "\n"
      ],
      "metadata": {
        "id": "tBB9JhjIFW_M"
      },
      "execution_count": 18,
      "outputs": []
    },
    {
      "cell_type": "code",
      "source": [
        "for i in range(len(reviews)):\n",
        "    prompt = f\"\"\"\n",
        "    Your task is to generate a short summary of a product \\\n",
        "    review from an ecommerce site.\n",
        "\n",
        "    Summarize the review below, delimited by triple \\\n",
        "    backticks in at most 20 words.\n",
        "\n",
        "    Review: ```{reviews[i]}```\n",
        "    \"\"\"\n",
        "\n",
        "    response = openai.Completion.create(\n",
        "  engine=\"text-davinci-002\",\n",
        "  prompt=prompt,\n",
        "  temperature=0.4,\n",
        "  max_tokens=64\n",
        ")\n",
        "    print(i, response, \"\\n\")\n"
      ],
      "metadata": {
        "colab": {
          "base_uri": "https://localhost:8080/"
        },
        "id": "7X6cW-cLFdXO",
        "outputId": "d887065d-74cf-4b61-dac8-7cd6b709c210"
      },
      "execution_count": 19,
      "outputs": [
        {
          "output_type": "stream",
          "name": "stdout",
          "text": [
            "0 {\n",
            "  \"warning\": \"This model version is deprecated. Migrate before January 4, 2024 to avoid disruption of service. Learn more https://platform.openai.com/docs/deprecations\",\n",
            "  \"id\": \"cmpl-8OPeE34N6h97mBp8USBfG7r8h2xtV\",\n",
            "  \"object\": \"text_completion\",\n",
            "  \"created\": 1700829154,\n",
            "  \"model\": \"text-davinci-002\",\n",
            "  \"choices\": [\n",
            "    {\n",
            "      \"text\": \"\\nThis cricket kit is a great gift for any cricket lover. It includes a good quality bat, ball, and bag. The gloves could be a bit larger, but overall it is a great purchase.\",\n",
            "      \"index\": 0,\n",
            "      \"logprobs\": null,\n",
            "      \"finish_reason\": \"stop\"\n",
            "    }\n",
            "  ],\n",
            "  \"usage\": {\n",
            "    \"prompt_tokens\": 213,\n",
            "    \"completion_tokens\": 41,\n",
            "    \"total_tokens\": 254\n",
            "  }\n",
            "} \n",
            "\n",
            "1 {\n",
            "  \"warning\": \"This model version is deprecated. Migrate before January 4, 2024 to avoid disruption of service. Learn more https://platform.openai.com/docs/deprecations\",\n",
            "  \"id\": \"cmpl-8OPeFEQvQO7fJTgtZaIGX1CCBJzIF\",\n",
            "  \"object\": \"text_completion\",\n",
            "  \"created\": 1700829155,\n",
            "  \"model\": \"text-davinci-002\",\n",
            "  \"choices\": [\n",
            "    {\n",
            "      \"text\": \"\\nThis company's dining table is sturdy, stylish, and easy to assemble with great customer service.\",\n",
            "      \"index\": 0,\n",
            "      \"logprobs\": null,\n",
            "      \"finish_reason\": \"stop\"\n",
            "    }\n",
            "  ],\n",
            "  \"usage\": {\n",
            "    \"prompt_tokens\": 241,\n",
            "    \"completion_tokens\": 20,\n",
            "    \"total_tokens\": 261\n",
            "  }\n",
            "} \n",
            "\n",
            "2 {\n",
            "  \"warning\": \"This model version is deprecated. Migrate before January 4, 2024 to avoid disruption of service. Learn more https://platform.openai.com/docs/deprecations\",\n",
            "  \"id\": \"cmpl-8OPeFXtsQACgMQLcntIIOTNjFVwlv\",\n",
            "  \"object\": \"text_completion\",\n",
            "  \"created\": 1700829155,\n",
            "  \"model\": \"text-davinci-002\",\n",
            "  \"choices\": [\n",
            "    {\n",
            "      \"text\": \"\\nThis dishwasher has good cleaning power, a sleek design, and is straightforward to use. It can be a bit noisy, but overall it is a solid dishwasher, especially for around $300.\",\n",
            "      \"index\": 0,\n",
            "      \"logprobs\": null,\n",
            "      \"finish_reason\": \"stop\"\n",
            "    }\n",
            "  ],\n",
            "  \"usage\": {\n",
            "    \"prompt_tokens\": 217,\n",
            "    \"completion_tokens\": 41,\n",
            "    \"total_tokens\": 258\n",
            "  }\n",
            "} \n",
            "\n",
            "3 {\n",
            "  \"warning\": \"This model version is deprecated. Migrate before January 4, 2024 to avoid disruption of service. Learn more https://platform.openai.com/docs/deprecations\",\n",
            "  \"id\": \"cmpl-8OPeGkKfItXA6oSHdEtY6Waa0nznR\",\n",
            "  \"object\": \"text_completion\",\n",
            "  \"created\": 1700829156,\n",
            "  \"model\": \"text-davinci-002\",\n",
            "  \"choices\": [\n",
            "    {\n",
            "      \"text\": \"\\nThe reviewer liked that the blender was a good deal, but found that the quality wasn't as good as it used to be.\",\n",
            "      \"index\": 0,\n",
            "      \"logprobs\": null,\n",
            "      \"finish_reason\": \"stop\"\n",
            "    }\n",
            "  ],\n",
            "  \"usage\": {\n",
            "    \"prompt_tokens\": 207,\n",
            "    \"completion_tokens\": 27,\n",
            "    \"total_tokens\": 234\n",
            "  }\n",
            "} \n",
            "\n"
          ]
        }
      ]
    },
    {
      "cell_type": "code",
      "source": [],
      "metadata": {
        "id": "0PgxK8imFlkj"
      },
      "execution_count": null,
      "outputs": []
    }
  ]
}